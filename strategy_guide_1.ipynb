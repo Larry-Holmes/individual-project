{
 "cells": [
  {
   "cell_type": "code",
   "execution_count": 14,
   "id": "2c21d724-0da3-40c6-8e69-a636b8d91375",
   "metadata": {},
   "outputs": [],
   "source": [
    "import pandas as pd\n",
    "import numpy as np\n",
    "\n",
    "import matplotlib.pyplot as plt\n",
    "import seaborn as sns\n",
    "\n",
    "import scipy.stats as stats\n",
    "from scipy.stats import pearsonr, spearmanr\n",
    "\n",
    "import prepare\n",
    "\n",
    "import warnings\n",
    "warnings.filterwarnings(\"ignore\")"
   ]
  },
  {
   "cell_type": "code",
   "execution_count": 4,
   "id": "559a49dd-c85c-444e-9b56-fd9d13be8fa5",
   "metadata": {},
   "outputs": [
    {
     "data": {
      "text/html": [
       "<div>\n",
       "<style scoped>\n",
       "    .dataframe tbody tr th:only-of-type {\n",
       "        vertical-align: middle;\n",
       "    }\n",
       "\n",
       "    .dataframe tbody tr th {\n",
       "        vertical-align: top;\n",
       "    }\n",
       "\n",
       "    .dataframe thead th {\n",
       "        text-align: right;\n",
       "    }\n",
       "</style>\n",
       "<table border=\"1\" class=\"dataframe\">\n",
       "  <thead>\n",
       "    <tr style=\"text-align: right;\">\n",
       "      <th></th>\n",
       "      <th>abilities</th>\n",
       "      <th>against_bug</th>\n",
       "      <th>against_dark</th>\n",
       "      <th>against_dragon</th>\n",
       "      <th>against_electric</th>\n",
       "      <th>against_fairy</th>\n",
       "      <th>against_fight</th>\n",
       "      <th>against_fire</th>\n",
       "      <th>against_flying</th>\n",
       "      <th>against_ghost</th>\n",
       "      <th>...</th>\n",
       "      <th>percentage_male</th>\n",
       "      <th>pokedex_number</th>\n",
       "      <th>sp_attack</th>\n",
       "      <th>sp_defense</th>\n",
       "      <th>speed</th>\n",
       "      <th>type1</th>\n",
       "      <th>type2</th>\n",
       "      <th>weight_kg</th>\n",
       "      <th>generation</th>\n",
       "      <th>is_legendary</th>\n",
       "    </tr>\n",
       "  </thead>\n",
       "  <tbody>\n",
       "    <tr>\n",
       "      <th>0</th>\n",
       "      <td>['Overgrow', 'Chlorophyll']</td>\n",
       "      <td>1.0</td>\n",
       "      <td>1.0</td>\n",
       "      <td>1.0</td>\n",
       "      <td>0.5</td>\n",
       "      <td>0.5</td>\n",
       "      <td>0.5</td>\n",
       "      <td>2.0</td>\n",
       "      <td>2.0</td>\n",
       "      <td>1.0</td>\n",
       "      <td>...</td>\n",
       "      <td>88.1</td>\n",
       "      <td>1</td>\n",
       "      <td>65</td>\n",
       "      <td>65</td>\n",
       "      <td>45</td>\n",
       "      <td>grass</td>\n",
       "      <td>poison</td>\n",
       "      <td>6.9</td>\n",
       "      <td>1</td>\n",
       "      <td>0</td>\n",
       "    </tr>\n",
       "    <tr>\n",
       "      <th>1</th>\n",
       "      <td>['Overgrow', 'Chlorophyll']</td>\n",
       "      <td>1.0</td>\n",
       "      <td>1.0</td>\n",
       "      <td>1.0</td>\n",
       "      <td>0.5</td>\n",
       "      <td>0.5</td>\n",
       "      <td>0.5</td>\n",
       "      <td>2.0</td>\n",
       "      <td>2.0</td>\n",
       "      <td>1.0</td>\n",
       "      <td>...</td>\n",
       "      <td>88.1</td>\n",
       "      <td>2</td>\n",
       "      <td>80</td>\n",
       "      <td>80</td>\n",
       "      <td>60</td>\n",
       "      <td>grass</td>\n",
       "      <td>poison</td>\n",
       "      <td>13.0</td>\n",
       "      <td>1</td>\n",
       "      <td>0</td>\n",
       "    </tr>\n",
       "    <tr>\n",
       "      <th>2</th>\n",
       "      <td>['Overgrow', 'Chlorophyll']</td>\n",
       "      <td>1.0</td>\n",
       "      <td>1.0</td>\n",
       "      <td>1.0</td>\n",
       "      <td>0.5</td>\n",
       "      <td>0.5</td>\n",
       "      <td>0.5</td>\n",
       "      <td>2.0</td>\n",
       "      <td>2.0</td>\n",
       "      <td>1.0</td>\n",
       "      <td>...</td>\n",
       "      <td>88.1</td>\n",
       "      <td>3</td>\n",
       "      <td>122</td>\n",
       "      <td>120</td>\n",
       "      <td>80</td>\n",
       "      <td>grass</td>\n",
       "      <td>poison</td>\n",
       "      <td>100.0</td>\n",
       "      <td>1</td>\n",
       "      <td>0</td>\n",
       "    </tr>\n",
       "    <tr>\n",
       "      <th>3</th>\n",
       "      <td>['Blaze', 'Solar Power']</td>\n",
       "      <td>0.5</td>\n",
       "      <td>1.0</td>\n",
       "      <td>1.0</td>\n",
       "      <td>1.0</td>\n",
       "      <td>0.5</td>\n",
       "      <td>1.0</td>\n",
       "      <td>0.5</td>\n",
       "      <td>1.0</td>\n",
       "      <td>1.0</td>\n",
       "      <td>...</td>\n",
       "      <td>88.1</td>\n",
       "      <td>4</td>\n",
       "      <td>60</td>\n",
       "      <td>50</td>\n",
       "      <td>65</td>\n",
       "      <td>fire</td>\n",
       "      <td>NaN</td>\n",
       "      <td>8.5</td>\n",
       "      <td>1</td>\n",
       "      <td>0</td>\n",
       "    </tr>\n",
       "    <tr>\n",
       "      <th>4</th>\n",
       "      <td>['Blaze', 'Solar Power']</td>\n",
       "      <td>0.5</td>\n",
       "      <td>1.0</td>\n",
       "      <td>1.0</td>\n",
       "      <td>1.0</td>\n",
       "      <td>0.5</td>\n",
       "      <td>1.0</td>\n",
       "      <td>0.5</td>\n",
       "      <td>1.0</td>\n",
       "      <td>1.0</td>\n",
       "      <td>...</td>\n",
       "      <td>88.1</td>\n",
       "      <td>5</td>\n",
       "      <td>80</td>\n",
       "      <td>65</td>\n",
       "      <td>80</td>\n",
       "      <td>fire</td>\n",
       "      <td>NaN</td>\n",
       "      <td>19.0</td>\n",
       "      <td>1</td>\n",
       "      <td>0</td>\n",
       "    </tr>\n",
       "  </tbody>\n",
       "</table>\n",
       "<p>5 rows × 41 columns</p>\n",
       "</div>"
      ],
      "text/plain": [
       "                     abilities  against_bug  against_dark  against_dragon  \\\n",
       "0  ['Overgrow', 'Chlorophyll']          1.0           1.0             1.0   \n",
       "1  ['Overgrow', 'Chlorophyll']          1.0           1.0             1.0   \n",
       "2  ['Overgrow', 'Chlorophyll']          1.0           1.0             1.0   \n",
       "3     ['Blaze', 'Solar Power']          0.5           1.0             1.0   \n",
       "4     ['Blaze', 'Solar Power']          0.5           1.0             1.0   \n",
       "\n",
       "   against_electric  against_fairy  against_fight  against_fire  \\\n",
       "0               0.5            0.5            0.5           2.0   \n",
       "1               0.5            0.5            0.5           2.0   \n",
       "2               0.5            0.5            0.5           2.0   \n",
       "3               1.0            0.5            1.0           0.5   \n",
       "4               1.0            0.5            1.0           0.5   \n",
       "\n",
       "   against_flying  against_ghost  ...  percentage_male  pokedex_number  \\\n",
       "0             2.0            1.0  ...             88.1               1   \n",
       "1             2.0            1.0  ...             88.1               2   \n",
       "2             2.0            1.0  ...             88.1               3   \n",
       "3             1.0            1.0  ...             88.1               4   \n",
       "4             1.0            1.0  ...             88.1               5   \n",
       "\n",
       "   sp_attack  sp_defense  speed  type1   type2  weight_kg  generation  \\\n",
       "0         65          65     45  grass  poison        6.9           1   \n",
       "1         80          80     60  grass  poison       13.0           1   \n",
       "2        122         120     80  grass  poison      100.0           1   \n",
       "3         60          50     65   fire     NaN        8.5           1   \n",
       "4         80          65     80   fire     NaN       19.0           1   \n",
       "\n",
       "   is_legendary  \n",
       "0             0  \n",
       "1             0  \n",
       "2             0  \n",
       "3             0  \n",
       "4             0  \n",
       "\n",
       "[5 rows x 41 columns]"
      ]
     },
     "execution_count": 4,
     "metadata": {},
     "output_type": "execute_result"
    }
   ],
   "source": [
    "df = pd.read_csv('pokemon.csv')\n",
    "df.head()"
   ]
  },
  {
   "cell_type": "markdown",
   "id": "4771bfcd-fc44-4880-ac10-709c11be0ba3",
   "metadata": {},
   "source": [
    "# Prepare"
   ]
  },
  {
   "cell_type": "code",
   "execution_count": 5,
   "id": "63392e4f-c03d-46eb-ac21-bd4335aac7c2",
   "metadata": {},
   "outputs": [
    {
     "name": "stdout",
     "output_type": "stream",
     "text": [
      "<class 'pandas.core.frame.DataFrame'>\n",
      "Index: 801 entries, Bulbasaur to Magearna\n",
      "Data columns (total 39 columns):\n",
      " #   Column             Non-Null Count  Dtype  \n",
      "---  ------             --------------  -----  \n",
      " 0   abilities          801 non-null    object \n",
      " 1   against_bug        801 non-null    float64\n",
      " 2   against_dark       801 non-null    float64\n",
      " 3   against_dragon     801 non-null    float64\n",
      " 4   against_electric   801 non-null    float64\n",
      " 5   against_fairy      801 non-null    float64\n",
      " 6   against_fight      801 non-null    float64\n",
      " 7   against_fire       801 non-null    float64\n",
      " 8   against_flying     801 non-null    float64\n",
      " 9   against_ghost      801 non-null    float64\n",
      " 10  against_grass      801 non-null    float64\n",
      " 11  against_ground     801 non-null    float64\n",
      " 12  against_ice        801 non-null    float64\n",
      " 13  against_normal     801 non-null    float64\n",
      " 14  against_poison     801 non-null    float64\n",
      " 15  against_psychic    801 non-null    float64\n",
      " 16  against_rock       801 non-null    float64\n",
      " 17  against_steel      801 non-null    float64\n",
      " 18  against_water      801 non-null    float64\n",
      " 19  attack             801 non-null    int64  \n",
      " 20  base_egg_steps     801 non-null    int64  \n",
      " 21  base_happiness     801 non-null    int64  \n",
      " 22  base_total         801 non-null    int64  \n",
      " 23  capture_rate       801 non-null    object \n",
      " 24  classfication      801 non-null    object \n",
      " 25  defense            801 non-null    int64  \n",
      " 26  experience_growth  801 non-null    int64  \n",
      " 27  height_m           801 non-null    float64\n",
      " 28  hp                 801 non-null    int64  \n",
      " 29  percentage_male    801 non-null    float64\n",
      " 30  sp_attack          801 non-null    int64  \n",
      " 31  sp_defense         801 non-null    int64  \n",
      " 32  speed              801 non-null    int64  \n",
      " 33  type1              801 non-null    object \n",
      " 34  type2              801 non-null    object \n",
      " 35  weight_kg          801 non-null    float64\n",
      " 36  generation         801 non-null    int64  \n",
      " 37  is_legendary       801 non-null    int64  \n",
      " 38  Overall Rating     801 non-null    object \n",
      "dtypes: float64(21), int64(12), object(6)\n",
      "memory usage: 250.3+ KB\n"
     ]
    }
   ],
   "source": [
    "df = prepare.clean_data(df)\n",
    "df.info()"
   ]
  },
  {
   "cell_type": "code",
   "execution_count": 6,
   "id": "6b707687-eb8e-4cd7-9249-afa6d223118a",
   "metadata": {},
   "outputs": [
    {
     "data": {
      "text/html": [
       "<div>\n",
       "<style scoped>\n",
       "    .dataframe tbody tr th:only-of-type {\n",
       "        vertical-align: middle;\n",
       "    }\n",
       "\n",
       "    .dataframe tbody tr th {\n",
       "        vertical-align: top;\n",
       "    }\n",
       "\n",
       "    .dataframe thead th {\n",
       "        text-align: right;\n",
       "    }\n",
       "</style>\n",
       "<table border=\"1\" class=\"dataframe\">\n",
       "  <thead>\n",
       "    <tr style=\"text-align: right;\">\n",
       "      <th></th>\n",
       "      <th>abilities</th>\n",
       "      <th>against_bug</th>\n",
       "      <th>against_dark</th>\n",
       "      <th>against_dragon</th>\n",
       "      <th>against_electric</th>\n",
       "      <th>against_fairy</th>\n",
       "      <th>against_fight</th>\n",
       "      <th>against_fire</th>\n",
       "      <th>against_flying</th>\n",
       "      <th>against_ghost</th>\n",
       "      <th>...</th>\n",
       "      <th>percentage_male</th>\n",
       "      <th>sp_attack</th>\n",
       "      <th>sp_defense</th>\n",
       "      <th>speed</th>\n",
       "      <th>type1</th>\n",
       "      <th>type2</th>\n",
       "      <th>weight_kg</th>\n",
       "      <th>generation</th>\n",
       "      <th>is_legendary</th>\n",
       "      <th>Overall Rating</th>\n",
       "    </tr>\n",
       "    <tr>\n",
       "      <th>name</th>\n",
       "      <th></th>\n",
       "      <th></th>\n",
       "      <th></th>\n",
       "      <th></th>\n",
       "      <th></th>\n",
       "      <th></th>\n",
       "      <th></th>\n",
       "      <th></th>\n",
       "      <th></th>\n",
       "      <th></th>\n",
       "      <th></th>\n",
       "      <th></th>\n",
       "      <th></th>\n",
       "      <th></th>\n",
       "      <th></th>\n",
       "      <th></th>\n",
       "      <th></th>\n",
       "      <th></th>\n",
       "      <th></th>\n",
       "      <th></th>\n",
       "      <th></th>\n",
       "    </tr>\n",
       "  </thead>\n",
       "  <tbody>\n",
       "    <tr>\n",
       "      <th>Bulbasaur</th>\n",
       "      <td>['Overgrow', 'Chlorophyll']</td>\n",
       "      <td>1.0</td>\n",
       "      <td>1.0</td>\n",
       "      <td>1.0</td>\n",
       "      <td>0.5</td>\n",
       "      <td>0.5</td>\n",
       "      <td>0.5</td>\n",
       "      <td>2.0</td>\n",
       "      <td>2.0</td>\n",
       "      <td>1.0</td>\n",
       "      <td>...</td>\n",
       "      <td>88.1</td>\n",
       "      <td>65</td>\n",
       "      <td>65</td>\n",
       "      <td>45</td>\n",
       "      <td>grass</td>\n",
       "      <td>poison</td>\n",
       "      <td>6.9</td>\n",
       "      <td>1</td>\n",
       "      <td>0</td>\n",
       "      <td>below_average</td>\n",
       "    </tr>\n",
       "    <tr>\n",
       "      <th>Ivysaur</th>\n",
       "      <td>['Overgrow', 'Chlorophyll']</td>\n",
       "      <td>1.0</td>\n",
       "      <td>1.0</td>\n",
       "      <td>1.0</td>\n",
       "      <td>0.5</td>\n",
       "      <td>0.5</td>\n",
       "      <td>0.5</td>\n",
       "      <td>2.0</td>\n",
       "      <td>2.0</td>\n",
       "      <td>1.0</td>\n",
       "      <td>...</td>\n",
       "      <td>88.1</td>\n",
       "      <td>80</td>\n",
       "      <td>80</td>\n",
       "      <td>60</td>\n",
       "      <td>grass</td>\n",
       "      <td>poison</td>\n",
       "      <td>13.0</td>\n",
       "      <td>1</td>\n",
       "      <td>0</td>\n",
       "      <td>below_average</td>\n",
       "    </tr>\n",
       "    <tr>\n",
       "      <th>Venusaur</th>\n",
       "      <td>['Overgrow', 'Chlorophyll']</td>\n",
       "      <td>1.0</td>\n",
       "      <td>1.0</td>\n",
       "      <td>1.0</td>\n",
       "      <td>0.5</td>\n",
       "      <td>0.5</td>\n",
       "      <td>0.5</td>\n",
       "      <td>2.0</td>\n",
       "      <td>2.0</td>\n",
       "      <td>1.0</td>\n",
       "      <td>...</td>\n",
       "      <td>88.1</td>\n",
       "      <td>122</td>\n",
       "      <td>120</td>\n",
       "      <td>80</td>\n",
       "      <td>grass</td>\n",
       "      <td>poison</td>\n",
       "      <td>100.0</td>\n",
       "      <td>1</td>\n",
       "      <td>0</td>\n",
       "      <td>above_average</td>\n",
       "    </tr>\n",
       "    <tr>\n",
       "      <th>Charmander</th>\n",
       "      <td>['Blaze', 'Solar Power']</td>\n",
       "      <td>0.5</td>\n",
       "      <td>1.0</td>\n",
       "      <td>1.0</td>\n",
       "      <td>1.0</td>\n",
       "      <td>0.5</td>\n",
       "      <td>1.0</td>\n",
       "      <td>0.5</td>\n",
       "      <td>1.0</td>\n",
       "      <td>1.0</td>\n",
       "      <td>...</td>\n",
       "      <td>88.1</td>\n",
       "      <td>60</td>\n",
       "      <td>50</td>\n",
       "      <td>65</td>\n",
       "      <td>fire</td>\n",
       "      <td>none</td>\n",
       "      <td>8.5</td>\n",
       "      <td>1</td>\n",
       "      <td>0</td>\n",
       "      <td>below_average</td>\n",
       "    </tr>\n",
       "    <tr>\n",
       "      <th>Charmeleon</th>\n",
       "      <td>['Blaze', 'Solar Power']</td>\n",
       "      <td>0.5</td>\n",
       "      <td>1.0</td>\n",
       "      <td>1.0</td>\n",
       "      <td>1.0</td>\n",
       "      <td>0.5</td>\n",
       "      <td>1.0</td>\n",
       "      <td>0.5</td>\n",
       "      <td>1.0</td>\n",
       "      <td>1.0</td>\n",
       "      <td>...</td>\n",
       "      <td>88.1</td>\n",
       "      <td>80</td>\n",
       "      <td>65</td>\n",
       "      <td>80</td>\n",
       "      <td>fire</td>\n",
       "      <td>none</td>\n",
       "      <td>19.0</td>\n",
       "      <td>1</td>\n",
       "      <td>0</td>\n",
       "      <td>below_average</td>\n",
       "    </tr>\n",
       "  </tbody>\n",
       "</table>\n",
       "<p>5 rows × 39 columns</p>\n",
       "</div>"
      ],
      "text/plain": [
       "                              abilities  against_bug  against_dark  \\\n",
       "name                                                                 \n",
       "Bulbasaur   ['Overgrow', 'Chlorophyll']          1.0           1.0   \n",
       "Ivysaur     ['Overgrow', 'Chlorophyll']          1.0           1.0   \n",
       "Venusaur    ['Overgrow', 'Chlorophyll']          1.0           1.0   \n",
       "Charmander     ['Blaze', 'Solar Power']          0.5           1.0   \n",
       "Charmeleon     ['Blaze', 'Solar Power']          0.5           1.0   \n",
       "\n",
       "            against_dragon  against_electric  against_fairy  against_fight  \\\n",
       "name                                                                         \n",
       "Bulbasaur              1.0               0.5            0.5            0.5   \n",
       "Ivysaur                1.0               0.5            0.5            0.5   \n",
       "Venusaur               1.0               0.5            0.5            0.5   \n",
       "Charmander             1.0               1.0            0.5            1.0   \n",
       "Charmeleon             1.0               1.0            0.5            1.0   \n",
       "\n",
       "            against_fire  against_flying  against_ghost  ...  percentage_male  \\\n",
       "name                                                     ...                    \n",
       "Bulbasaur            2.0             2.0            1.0  ...             88.1   \n",
       "Ivysaur              2.0             2.0            1.0  ...             88.1   \n",
       "Venusaur             2.0             2.0            1.0  ...             88.1   \n",
       "Charmander           0.5             1.0            1.0  ...             88.1   \n",
       "Charmeleon           0.5             1.0            1.0  ...             88.1   \n",
       "\n",
       "            sp_attack  sp_defense  speed  type1   type2  weight_kg  \\\n",
       "name                                                                 \n",
       "Bulbasaur          65          65     45  grass  poison        6.9   \n",
       "Ivysaur            80          80     60  grass  poison       13.0   \n",
       "Venusaur          122         120     80  grass  poison      100.0   \n",
       "Charmander         60          50     65   fire    none        8.5   \n",
       "Charmeleon         80          65     80   fire    none       19.0   \n",
       "\n",
       "            generation  is_legendary  Overall Rating  \n",
       "name                                                  \n",
       "Bulbasaur            1             0   below_average  \n",
       "Ivysaur              1             0   below_average  \n",
       "Venusaur             1             0   above_average  \n",
       "Charmander           1             0   below_average  \n",
       "Charmeleon           1             0   below_average  \n",
       "\n",
       "[5 rows x 39 columns]"
      ]
     },
     "execution_count": 6,
     "metadata": {},
     "output_type": "execute_result"
    }
   ],
   "source": [
    "df.head()"
   ]
  },
  {
   "cell_type": "markdown",
   "id": "50ef1774-2656-485b-8660-38224048f63b",
   "metadata": {},
   "source": [
    "# Explore"
   ]
  },
  {
   "cell_type": "markdown",
   "id": "7d3f9769-1435-4afb-9622-265320141c7b",
   "metadata": {},
   "source": [
    "# What should my target variable be?\n",
    "\n",
    "- I feel as though base_total should be the target variable since most attributes and stats probably correlate well with the overall base total\n",
    "- Questions to be asked:\n",
    "\n",
    "> Does size (height and weight) correlate with separate stat attributes (i.e. attack, defense, hp, sp_attack, sp_defense, speed) and in turn affect the base_total?\n",
    ">\n",
    "> Which type of pokemon is strongest/weakest?\n",
    ">\n",
    "> Can you use an algorithm to build the perfect team for specific scenarios?\n",
    ">\n",
    "> What factors influence the experience growth and egg steps?  Are those quantities correlated?\n",
    ">\n",
    "> Does base_happiness affect base_total stats?\n",
    ">\n",
    "> Can I predict the number of types of pokemon in subsequent generations?"
   ]
  },
  {
   "cell_type": "markdown",
   "id": "63393e99-af5b-4b81-a157-3922bff97d88",
   "metadata": {},
   "source": [
    "---------------------------------------------------------------"
   ]
  },
  {
   "cell_type": "markdown",
   "id": "c5acf8a4-812b-49a1-a73c-9c470ddae016",
   "metadata": {},
   "source": [
    "# Goals and Deliverables\n",
    "\n",
    "- My goal is to create an algorithm that can accruately assess a pokemon's use within your team makeup\n",
    "\n",
    "- I am to deliver a working model along with an entire notebook outlining how I came to my conclusion and end product"
   ]
  },
  {
   "cell_type": "markdown",
   "id": "e3d0836e-cf40-4221-8e1c-54eeb8f6831b",
   "metadata": {},
   "source": [
    "------"
   ]
  },
  {
   "cell_type": "markdown",
   "id": "60cda49c-fbaf-47df-9e14-02a997922773",
   "metadata": {},
   "source": [
    "# Initial Thoughts and Hypotheses\n",
    "\n",
    "> My thought process going into this project is that if I can make sense of what affects the overall total base stats and rack and stack the best combinations of strenghts and weaknesses for different scenarios then I will be able to create a model that can predict most situations and suggest the best 6 pokemon team for any gamer.  I also think that by looking at the trend of pokemon released each generation that I can better predict what subsequent releases of pokemon games will look like in terms of best types of pokemon to look out for and plan to use."
   ]
  },
  {
   "cell_type": "code",
   "execution_count": 22,
   "id": "3c3626c8-3cca-46a6-a7dc-dc9208864443",
   "metadata": {},
   "outputs": [],
   "source": [
    "att_stats = df[['attack', 'defense', 'hp', 'sp_attack', 'sp_defense', 'speed', 'weight_kg', 'height_m',\n",
    "                'base_total']]"
   ]
  },
  {
   "cell_type": "code",
   "execution_count": 23,
   "id": "3eb1ad8c-ca14-40ff-bce1-b0cb4b5efb4b",
   "metadata": {},
   "outputs": [
    {
     "data": {
      "text/plain": [
       "<AxesSubplot:>"
      ]
     },
     "execution_count": 23,
     "metadata": {},
     "output_type": "execute_result"
    },
    {
     "data": {
      "image/png": "[encoded data removed]",
      "text/plain": [
       "<Figure size 1152x576 with 2 Axes>"
      ]
     },
     "metadata": {
      "needs_background": "light"
     },
     "output_type": "display_data"
    }
   ],
   "source": [
    "poke_corr = att_stats.corr(method='spearman')\n",
    "\n",
    "plt.figure(figsize=(16,8))\n",
    "sns.heatmap(poke_corr, cmap='Blues', annot=True)"
   ]
  },
  {
   "cell_type": "markdown",
   "id": "9df72917-9e81-4fef-8f8a-e9b6ab474fed",
   "metadata": {},
   "source": [
    "## Correlation Takeaways\n",
    "- Height has a higher correlation with base_total than weight, but height and weight are highly correlated with each other.  Height might be the better indicator of base total than weight while still taking in account the influence of weight. \n",
    "- Separate stats (attack, defense, hp, sp_attack, sp_defense) seem to have a significant correlation with base_total, with speed not having a high correlation like the other 5 stats."
   ]
  },
  {
   "cell_type": "code",
   "execution_count": 26,
   "id": "06d26a3a-6adc-4be9-8d4a-0018cbe0f209",
   "metadata": {},
   "outputs": [
    {
     "name": "stdout",
     "output_type": "stream",
     "text": [
      "attack\n",
      "Correlation Coefficient by Spearman Test: 0.7183752994251309\n",
      "p-value: 4.642840720027558e-128\n",
      "\n",
      "We CAN reject the null hypothesis\n",
      "\n",
      "defense\n",
      "Correlation Coefficient by Spearman Test: 0.69497730680621\n",
      "p-value: 1.4113978227422063e-116\n",
      "\n",
      "We CAN reject the null hypothesis\n",
      "\n",
      "hp\n",
      "Correlation Coefficient by Spearman Test: 0.7274031128714601\n",
      "p-value: 8.272812245198917e-133\n",
      "\n",
      "We CAN reject the null hypothesis\n",
      "\n",
      "sp_attack\n",
      "Correlation Coefficient by Spearman Test: 0.7252520749217855\n",
      "p-value: 1.1653407618556783e-131\n",
      "\n",
      "We CAN reject the null hypothesis\n",
      "\n",
      "sp_defense\n",
      "Correlation Coefficient by Spearman Test: 0.7548052341341852\n",
      "p-value: 1.7842833087898255e-148\n",
      "\n",
      "We CAN reject the null hypothesis\n",
      "\n",
      "speed\n",
      "Correlation Coefficient by Spearman Test: 0.5330662078637494\n",
      "p-value: 5.265900210749323e-60\n",
      "\n",
      "We CAN reject the null hypothesis\n",
      "\n",
      "weight_kg\n",
      "Correlation Coefficient by Spearman Test: 0.6337085571162685\n",
      "p-value: 3.629769533707378e-91\n",
      "\n",
      "We CAN reject the null hypothesis\n",
      "\n",
      "height_m\n",
      "Correlation Coefficient by Spearman Test: 0.7144358475891569\n",
      "p-value: 4.7985222204110004e-126\n",
      "\n",
      "We CAN reject the null hypothesis\n",
      "\n",
      "base_total\n",
      "Correlation Coefficient by Spearman Test: 1.0\n",
      "p-value: 0.0\n",
      "\n",
      "We CAN reject the null hypothesis\n",
      "\n"
     ]
    }
   ],
   "source": [
    "# Using hypothesis testing (Spearman Test) to show correlation of each independent variable\n",
    "# with the target varibale using a more scientific approach\n",
    "for col in att_stats:\n",
    "    print(col)\n",
    "    r, p_value = spearmanr(df[col], df.base_total)\n",
    "\n",
    "    print(f'Correlation Coefficient by Spearman Test: {r}\\np-value: {p_value}')\n",
    "    print()\n",
    "\n",
    "    if p_value < 0.05:\n",
    "        print('We CAN reject the null hypothesis')\n",
    "        print()\n",
    "    else:\n",
    "        print('We CANNOT reject the null hypothesis')\n",
    "        print()"
   ]
  },
  {
   "cell_type": "code",
   "execution_count": 27,
   "id": "1c79c791-dd42-42ad-bf8d-09d68523693d",
   "metadata": {},
   "outputs": [
    {
     "data": {
      "text/plain": [
       "Index(['abilities', 'against_bug', 'against_dark', 'against_dragon',\n",
       "       'against_electric', 'against_fairy', 'against_fight', 'against_fire',\n",
       "       'against_flying', 'against_ghost', 'against_grass', 'against_ground',\n",
       "       'against_ice', 'against_normal', 'against_poison', 'against_psychic',\n",
       "       'against_rock', 'against_steel', 'against_water', 'attack',\n",
       "       'base_egg_steps', 'base_happiness', 'base_total', 'capture_rate',\n",
       "       'classfication', 'defense', 'experience_growth', 'height_m', 'hp',\n",
       "       'percentage_male', 'sp_attack', 'sp_defense', 'speed', 'type1', 'type2',\n",
       "       'weight_kg', 'generation', 'is_legendary', 'Overall Rating'],\n",
       "      dtype='object')"
      ]
     },
     "execution_count": 27,
     "metadata": {},
     "output_type": "execute_result"
    }
   ],
   "source": [
    "df.columns"
   ]
  },
  {
   "cell_type": "markdown",
   "id": "4910b6dc-c78e-445d-9065-ffa696bfad0e",
   "metadata": {},
   "source": [
    "## Does Weight Affect a Pokemon's Base Total?"
   ]
  },
  {
   "cell_type": "code",
   "execution_count": 7,
   "id": "c5f63c7a-d305-4040-af45-f3e6a9636683",
   "metadata": {},
   "outputs": [
    {
     "data": {
      "text/plain": [
       "<AxesSubplot:xlabel='weight_kg', ylabel='base_total'>"
      ]
     },
     "execution_count": 7,
     "metadata": {},
     "output_type": "execute_result"
    },
    {
     "data": {
      "image/png": "[encoded data removed]",
      "text/plain": [
       "<Figure size 432x288 with 1 Axes>"
      ]
     },
     "metadata": {
      "needs_background": "light"
     },
     "output_type": "display_data"
    }
   ],
   "source": [
    "sns.scatterplot(data=df, x=df.weight_kg, y=df.base_total)"
   ]
  },
  {
   "cell_type": "code",
   "execution_count": 24,
   "id": "44a99ce3-ab61-40c2-9a90-1aede5646e20",
   "metadata": {},
   "outputs": [
    {
     "data": {
      "text/plain": [
       "<AxesSubplot:xlabel='height_m', ylabel='base_total'>"
      ]
     },
     "execution_count": 24,
     "metadata": {},
     "output_type": "execute_result"
    },
    {
     "data": {
      "image/png": "[encoded data removed]",
      "text/plain": [
       "<Figure size 432x288 with 1 Axes>"
      ]
     },
     "metadata": {
      "needs_background": "light"
     },
     "output_type": "display_data"
    }
   ],
   "source": [
    "sns.scatterplot(data=df, x=df.height_m, y=df.base_total)"
   ]
  },
  {
   "cell_type": "code",
   "execution_count": 38,
   "id": "ac864823-32f4-44a3-b44d-8a23774eb0c7",
   "metadata": {},
   "outputs": [
    {
     "name": "stdout",
     "output_type": "stream",
     "text": [
      "attack\n"
     ]
    },
    {
     "data": {
      "image/png": "[encoded data removed]",
      "text/plain": [
       "<Figure size 432x288 with 1 Axes>"
      ]
     },
     "metadata": {
      "needs_background": "light"
     },
     "output_type": "display_data"
    },
    {
     "name": "stdout",
     "output_type": "stream",
     "text": [
      "defense\n"
     ]
    },
    {
     "data": {
      "image/png": "[encoded data removed]",
      "text/plain": [
       "<Figure size 432x288 with 1 Axes>"
      ]
     },
     "metadata": {
      "needs_background": "light"
     },
     "output_type": "display_data"
    },
    {
     "name": "stdout",
     "output_type": "stream",
     "text": [
      "hp\n"
     ]
    },
    {
     "data": {
      "image/png": "[encoded data removed]",
      "text/plain": [
       "<Figure size 432x288 with 1 Axes>"
      ]
     },
     "metadata": {
      "needs_background": "light"
     },
     "output_type": "display_data"
    },
    {
     "name": "stdout",
     "output_type": "stream",
     "text": [
      "sp_attack\n"
     ]
    },
    {
     "data": {
      "image/png": "[encoded data removed]",
      "text/plain": [
       "<Figure size 432x288 with 1 Axes>"
      ]
     },
     "metadata": {
      "needs_background": "light"
     },
     "output_type": "display_data"
    },
    {
     "name": "stdout",
     "output_type": "stream",
     "text": [
      "sp_defense\n"
     ]
    },
    {
     "data": {
      "image/png": "[encoded data removed]",
      "text/plain": [
       "<Figure size 432x288 with 1 Axes>"
      ]
     },
     "metadata": {
      "needs_background": "light"
     },
     "output_type": "display_data"
    },
    {
     "name": "stdout",
     "output_type": "stream",
     "text": [
      "speed\n"
     ]
    },
    {
     "data": {
      "image/png": "[encoded data removed]",
      "text/plain": [
       "<Figure size 432x288 with 1 Axes>"
      ]
     },
     "metadata": {
      "needs_background": "light"
     },
     "output_type": "display_data"
    }
   ],
   "source": [
    "base_stats = df[['attack', 'defense', 'hp', 'sp_attack', 'sp_defense', 'speed']]\n",
    "for col in base_stats:\n",
    "    print(col)\n",
    "    sns.scatterplot(data=df, y=df[col], x=df.height_m)\n",
    "    plt.show()"
   ]
  },
  {
   "cell_type": "code",
   "execution_count": 21,
   "id": "185fd87a-cb88-495f-b6a8-30dbf8cd353a",
   "metadata": {},
   "outputs": [
    {
     "data": {
      "text/plain": [
       "70     667\n",
       "35      69\n",
       "0       36\n",
       "100     14\n",
       "140     10\n",
       "90       5\n",
       "Name: base_happiness, dtype: int64"
      ]
     },
     "execution_count": 21,
     "metadata": {},
     "output_type": "execute_result"
    }
   ],
   "source": [
    "df.base_happiness.value_counts()"
   ]
  },
  {
   "cell_type": "code",
   "execution_count": 54,
   "id": "339c52bd-d160-45cb-b968-ac13d26aba88",
   "metadata": {},
   "outputs": [
    {
     "data": {
      "text/plain": [
       "count    801.000000\n",
       "mean     428.377029\n",
       "std      119.203577\n",
       "min      180.000000\n",
       "25%      320.000000\n",
       "50%      435.000000\n",
       "75%      505.000000\n",
       "max      780.000000\n",
       "Name: base_total, dtype: float64"
      ]
     },
     "execution_count": 54,
     "metadata": {},
     "output_type": "execute_result"
    }
   ],
   "source": [
    "df.base_total.describe()"
   ]
  },
  {
   "cell_type": "code",
   "execution_count": 60,
   "id": "f1fa4796-2362-469a-acdb-37166d5fa649",
   "metadata": {},
   "outputs": [
    {
     "data": {
      "text/plain": [
       "5    156\n",
       "1    151\n",
       "3    135\n",
       "4    107\n",
       "2    100\n",
       "7     80\n",
       "6     72\n",
       "Name: generation, dtype: int64"
      ]
     },
     "execution_count": 60,
     "metadata": {},
     "output_type": "execute_result"
    }
   ],
   "source": [
    "df.generation.value_counts()"
   ]
  },
  {
   "cell_type": "code",
   "execution_count": 72,
   "id": "6b38b57f-233c-4bdd-82a1-bf903ff644c4",
   "metadata": {},
   "outputs": [
    {
     "data": {
      "text/html": [
       "<div>\n",
       "<style scoped>\n",
       "    .dataframe tbody tr th:only-of-type {\n",
       "        vertical-align: middle;\n",
       "    }\n",
       "\n",
       "    .dataframe tbody tr th {\n",
       "        vertical-align: top;\n",
       "    }\n",
       "\n",
       "    .dataframe thead th {\n",
       "        text-align: right;\n",
       "    }\n",
       "</style>\n",
       "<table border=\"1\" class=\"dataframe\">\n",
       "  <thead>\n",
       "    <tr style=\"text-align: right;\">\n",
       "      <th></th>\n",
       "      <th>abilities</th>\n",
       "      <th>against_bug</th>\n",
       "      <th>against_dark</th>\n",
       "      <th>against_dragon</th>\n",
       "      <th>against_electric</th>\n",
       "      <th>against_fairy</th>\n",
       "      <th>against_fight</th>\n",
       "      <th>against_fire</th>\n",
       "      <th>against_flying</th>\n",
       "      <th>against_ghost</th>\n",
       "      <th>...</th>\n",
       "      <th>percentage_male</th>\n",
       "      <th>pokedex_number</th>\n",
       "      <th>sp_attack</th>\n",
       "      <th>sp_defense</th>\n",
       "      <th>speed</th>\n",
       "      <th>type1</th>\n",
       "      <th>type2</th>\n",
       "      <th>weight_kg</th>\n",
       "      <th>generation</th>\n",
       "      <th>is_legendary</th>\n",
       "    </tr>\n",
       "    <tr>\n",
       "      <th>name</th>\n",
       "      <th></th>\n",
       "      <th></th>\n",
       "      <th></th>\n",
       "      <th></th>\n",
       "      <th></th>\n",
       "      <th></th>\n",
       "      <th></th>\n",
       "      <th></th>\n",
       "      <th></th>\n",
       "      <th></th>\n",
       "      <th></th>\n",
       "      <th></th>\n",
       "      <th></th>\n",
       "      <th></th>\n",
       "      <th></th>\n",
       "      <th></th>\n",
       "      <th></th>\n",
       "      <th></th>\n",
       "      <th></th>\n",
       "      <th></th>\n",
       "      <th></th>\n",
       "    </tr>\n",
       "  </thead>\n",
       "  <tbody>\n",
       "    <tr>\n",
       "      <th>Mewtwo</th>\n",
       "      <td>['Pressure', 'Unnerve']</td>\n",
       "      <td>2.0</td>\n",
       "      <td>2.0</td>\n",
       "      <td>1.0</td>\n",
       "      <td>1.0</td>\n",
       "      <td>1.0</td>\n",
       "      <td>0.5</td>\n",
       "      <td>1.0</td>\n",
       "      <td>1.0</td>\n",
       "      <td>2.0</td>\n",
       "      <td>...</td>\n",
       "      <td>-100.0</td>\n",
       "      <td>150</td>\n",
       "      <td>194</td>\n",
       "      <td>120</td>\n",
       "      <td>140</td>\n",
       "      <td>psychic</td>\n",
       "      <td>none</td>\n",
       "      <td>122.0</td>\n",
       "      <td>1</td>\n",
       "      <td>1</td>\n",
       "    </tr>\n",
       "    <tr>\n",
       "      <th>Rayquaza</th>\n",
       "      <td>['Air Lock']</td>\n",
       "      <td>0.5</td>\n",
       "      <td>1.0</td>\n",
       "      <td>2.0</td>\n",
       "      <td>1.0</td>\n",
       "      <td>2.0</td>\n",
       "      <td>0.5</td>\n",
       "      <td>0.5</td>\n",
       "      <td>1.0</td>\n",
       "      <td>1.0</td>\n",
       "      <td>...</td>\n",
       "      <td>-100.0</td>\n",
       "      <td>384</td>\n",
       "      <td>180</td>\n",
       "      <td>100</td>\n",
       "      <td>115</td>\n",
       "      <td>dragon</td>\n",
       "      <td>flying</td>\n",
       "      <td>206.5</td>\n",
       "      <td>3</td>\n",
       "      <td>1</td>\n",
       "    </tr>\n",
       "  </tbody>\n",
       "</table>\n",
       "<p>2 rows × 40 columns</p>\n",
       "</div>"
      ],
      "text/plain": [
       "                        abilities  against_bug  against_dark  against_dragon  \\\n",
       "name                                                                           \n",
       "Mewtwo    ['Pressure', 'Unnerve']          2.0           2.0             1.0   \n",
       "Rayquaza             ['Air Lock']          0.5           1.0             2.0   \n",
       "\n",
       "          against_electric  against_fairy  against_fight  against_fire  \\\n",
       "name                                                                     \n",
       "Mewtwo                 1.0            1.0            0.5           1.0   \n",
       "Rayquaza               1.0            2.0            0.5           0.5   \n",
       "\n",
       "          against_flying  against_ghost  ...  percentage_male  pokedex_number  \\\n",
       "name                                     ...                                    \n",
       "Mewtwo               1.0            2.0  ...           -100.0             150   \n",
       "Rayquaza             1.0            1.0  ...           -100.0             384   \n",
       "\n",
       "          sp_attack  sp_defense  speed    type1   type2  weight_kg  \\\n",
       "name                                                                 \n",
       "Mewtwo          194         120    140  psychic    none      122.0   \n",
       "Rayquaza        180         100    115   dragon  flying      206.5   \n",
       "\n",
       "          generation  is_legendary  \n",
       "name                                \n",
       "Mewtwo             1             1  \n",
       "Rayquaza           3             1  \n",
       "\n",
       "[2 rows x 40 columns]"
      ]
     },
     "execution_count": 72,
     "metadata": {},
     "output_type": "execute_result"
    }
   ],
   "source": [
    "df[df.base_total == 780]"
   ]
  },
  {
   "cell_type": "code",
   "execution_count": 43,
   "id": "7b43b583-0bb1-4bc2-9ad5-61278bfe5a75",
   "metadata": {},
   "outputs": [
    {
     "name": "stdout",
     "output_type": "stream",
     "text": [
      "attack\n"
     ]
    },
    {
     "data": {
      "image/png": "[encoded data removed]",
      "text/plain": [
       "<Figure size 432x288 with 1 Axes>"
      ]
     },
     "metadata": {
      "needs_background": "light"
     },
     "output_type": "display_data"
    },
    {
     "name": "stdout",
     "output_type": "stream",
     "text": [
      "defense\n"
     ]
    },
    {
     "data": {
      "image/png": "[encoded data removed]",
      "text/plain": [
       "<Figure size 432x288 with 1 Axes>"
      ]
     },
     "metadata": {
      "needs_background": "light"
     },
     "output_type": "display_data"
    },
    {
     "name": "stdout",
     "output_type": "stream",
     "text": [
      "hp\n"
     ]
    },
    {
     "data": {
      "image/png": "[encoded data removed]",
      "text/plain": [
       "<Figure size 432x288 with 1 Axes>"
      ]
     },
     "metadata": {
      "needs_background": "light"
     },
     "output_type": "display_data"
    },
    {
     "name": "stdout",
     "output_type": "stream",
     "text": [
      "sp_attack\n"
     ]
    },
    {
     "data": {
      "image/png": "[encoded data removed]",
      "text/plain": [
       "<Figure size 432x288 with 1 Axes>"
      ]
     },
     "metadata": {
      "needs_background": "light"
     },
     "output_type": "display_data"
    },
    {
     "name": "stdout",
     "output_type": "stream",
     "text": [
      "sp_defense\n"
     ]
    },
    {
     "data": {
      "image/png": "[encoded data removed]",
      "text/plain": [
       "<Figure size 432x288 with 1 Axes>"
      ]
     },
     "metadata": {
      "needs_background": "light"
     },
     "output_type": "display_data"
    },
    {
     "name": "stdout",
     "output_type": "stream",
     "text": [
      "speed\n"
     ]
    },
    {
     "data": {
      "image/png": "[encoded data removed]",
      "text/plain": [
       "<Figure size 432x288 with 1 Axes>"
      ]
     },
     "metadata": {
      "needs_background": "light"
     },
     "output_type": "display_data"
    },
    {
     "name": "stdout",
     "output_type": "stream",
     "text": [
      "weight_kg\n"
     ]
    },
    {
     "data": {
      "image/png": "[encoded data removed]",
      "text/plain": [
       "<Figure size 432x288 with 1 Axes>"
      ]
     },
     "metadata": {
      "needs_background": "light"
     },
     "output_type": "display_data"
    },
    {
     "name": "stdout",
     "output_type": "stream",
     "text": [
      "height_m\n"
     ]
    },
    {
     "data": {
      "image/png": "[encoded data removed]",
      "text/plain": [
       "<Figure size 432x288 with 1 Axes>"
      ]
     },
     "metadata": {
      "needs_background": "light"
     },
     "output_type": "display_data"
    },
    {
     "name": "stdout",
     "output_type": "stream",
     "text": [
      "base_total\n"
     ]
    },
    {
     "data": {
      "image/png": "[encoded data removed]",
      "text/plain": [
       "<Figure size 432x288 with 1 Axes>"
      ]
     },
     "metadata": {
      "needs_background": "light"
     },
     "output_type": "display_data"
    }
   ],
   "source": [
    "for col in att_stats:\n",
    "    print(col)\n",
    "    sns.boxplot(data=df, y=df[col], x=df.is_legendary)\n",
    "    plt.show()"
   ]
  },
  {
   "cell_type": "code",
   "execution_count": 44,
   "id": "5465d3c4-e762-4fd1-b697-740ff8241672",
   "metadata": {},
   "outputs": [],
   "source": [
    "type_adv = df[['against_bug', 'against_dark', 'against_dragon',\n",
    "       'against_electric', 'against_fairy', 'against_fight', 'against_fire',\n",
    "       'against_flying', 'against_ghost', 'against_grass', 'against_ground',\n",
    "       'against_ice', 'against_normal', 'against_poison', 'against_psychic',\n",
    "       'against_rock', 'against_steel', 'against_water']]"
   ]
  },
  {
   "cell_type": "code",
   "execution_count": 45,
   "id": "2208eae5-67c3-4d7e-ad88-f7c99478f26a",
   "metadata": {},
   "outputs": [
    {
     "data": {
      "text/html": [
       "<div>\n",
       "<style scoped>\n",
       "    .dataframe tbody tr th:only-of-type {\n",
       "        vertical-align: middle;\n",
       "    }\n",
       "\n",
       "    .dataframe tbody tr th {\n",
       "        vertical-align: top;\n",
       "    }\n",
       "\n",
       "    .dataframe thead th {\n",
       "        text-align: right;\n",
       "    }\n",
       "</style>\n",
       "<table border=\"1\" class=\"dataframe\">\n",
       "  <thead>\n",
       "    <tr style=\"text-align: right;\">\n",
       "      <th></th>\n",
       "      <th>against_bug</th>\n",
       "      <th>against_dark</th>\n",
       "      <th>against_dragon</th>\n",
       "      <th>against_electric</th>\n",
       "      <th>against_fairy</th>\n",
       "      <th>against_fight</th>\n",
       "      <th>against_fire</th>\n",
       "      <th>against_flying</th>\n",
       "      <th>against_ghost</th>\n",
       "      <th>against_grass</th>\n",
       "      <th>against_ground</th>\n",
       "      <th>against_ice</th>\n",
       "      <th>against_normal</th>\n",
       "      <th>against_poison</th>\n",
       "      <th>against_psychic</th>\n",
       "      <th>against_rock</th>\n",
       "      <th>against_steel</th>\n",
       "      <th>against_water</th>\n",
       "    </tr>\n",
       "    <tr>\n",
       "      <th>name</th>\n",
       "      <th></th>\n",
       "      <th></th>\n",
       "      <th></th>\n",
       "      <th></th>\n",
       "      <th></th>\n",
       "      <th></th>\n",
       "      <th></th>\n",
       "      <th></th>\n",
       "      <th></th>\n",
       "      <th></th>\n",
       "      <th></th>\n",
       "      <th></th>\n",
       "      <th></th>\n",
       "      <th></th>\n",
       "      <th></th>\n",
       "      <th></th>\n",
       "      <th></th>\n",
       "      <th></th>\n",
       "    </tr>\n",
       "  </thead>\n",
       "  <tbody>\n",
       "    <tr>\n",
       "      <th>Bulbasaur</th>\n",
       "      <td>1.00</td>\n",
       "      <td>1.0</td>\n",
       "      <td>1.0</td>\n",
       "      <td>0.5</td>\n",
       "      <td>0.5</td>\n",
       "      <td>0.5</td>\n",
       "      <td>2.0</td>\n",
       "      <td>2.0</td>\n",
       "      <td>1.0</td>\n",
       "      <td>0.25</td>\n",
       "      <td>1.0</td>\n",
       "      <td>2.0</td>\n",
       "      <td>1.0</td>\n",
       "      <td>1.0</td>\n",
       "      <td>2.0</td>\n",
       "      <td>1.0</td>\n",
       "      <td>1.0</td>\n",
       "      <td>0.5</td>\n",
       "    </tr>\n",
       "    <tr>\n",
       "      <th>Ivysaur</th>\n",
       "      <td>1.00</td>\n",
       "      <td>1.0</td>\n",
       "      <td>1.0</td>\n",
       "      <td>0.5</td>\n",
       "      <td>0.5</td>\n",
       "      <td>0.5</td>\n",
       "      <td>2.0</td>\n",
       "      <td>2.0</td>\n",
       "      <td>1.0</td>\n",
       "      <td>0.25</td>\n",
       "      <td>1.0</td>\n",
       "      <td>2.0</td>\n",
       "      <td>1.0</td>\n",
       "      <td>1.0</td>\n",
       "      <td>2.0</td>\n",
       "      <td>1.0</td>\n",
       "      <td>1.0</td>\n",
       "      <td>0.5</td>\n",
       "    </tr>\n",
       "    <tr>\n",
       "      <th>Venusaur</th>\n",
       "      <td>1.00</td>\n",
       "      <td>1.0</td>\n",
       "      <td>1.0</td>\n",
       "      <td>0.5</td>\n",
       "      <td>0.5</td>\n",
       "      <td>0.5</td>\n",
       "      <td>2.0</td>\n",
       "      <td>2.0</td>\n",
       "      <td>1.0</td>\n",
       "      <td>0.25</td>\n",
       "      <td>1.0</td>\n",
       "      <td>2.0</td>\n",
       "      <td>1.0</td>\n",
       "      <td>1.0</td>\n",
       "      <td>2.0</td>\n",
       "      <td>1.0</td>\n",
       "      <td>1.0</td>\n",
       "      <td>0.5</td>\n",
       "    </tr>\n",
       "    <tr>\n",
       "      <th>Charmander</th>\n",
       "      <td>0.50</td>\n",
       "      <td>1.0</td>\n",
       "      <td>1.0</td>\n",
       "      <td>1.0</td>\n",
       "      <td>0.5</td>\n",
       "      <td>1.0</td>\n",
       "      <td>0.5</td>\n",
       "      <td>1.0</td>\n",
       "      <td>1.0</td>\n",
       "      <td>0.50</td>\n",
       "      <td>2.0</td>\n",
       "      <td>0.5</td>\n",
       "      <td>1.0</td>\n",
       "      <td>1.0</td>\n",
       "      <td>1.0</td>\n",
       "      <td>2.0</td>\n",
       "      <td>0.5</td>\n",
       "      <td>2.0</td>\n",
       "    </tr>\n",
       "    <tr>\n",
       "      <th>Charmeleon</th>\n",
       "      <td>0.50</td>\n",
       "      <td>1.0</td>\n",
       "      <td>1.0</td>\n",
       "      <td>1.0</td>\n",
       "      <td>0.5</td>\n",
       "      <td>1.0</td>\n",
       "      <td>0.5</td>\n",
       "      <td>1.0</td>\n",
       "      <td>1.0</td>\n",
       "      <td>0.50</td>\n",
       "      <td>2.0</td>\n",
       "      <td>0.5</td>\n",
       "      <td>1.0</td>\n",
       "      <td>1.0</td>\n",
       "      <td>1.0</td>\n",
       "      <td>2.0</td>\n",
       "      <td>0.5</td>\n",
       "      <td>2.0</td>\n",
       "    </tr>\n",
       "    <tr>\n",
       "      <th>...</th>\n",
       "      <td>...</td>\n",
       "      <td>...</td>\n",
       "      <td>...</td>\n",
       "      <td>...</td>\n",
       "      <td>...</td>\n",
       "      <td>...</td>\n",
       "      <td>...</td>\n",
       "      <td>...</td>\n",
       "      <td>...</td>\n",
       "      <td>...</td>\n",
       "      <td>...</td>\n",
       "      <td>...</td>\n",
       "      <td>...</td>\n",
       "      <td>...</td>\n",
       "      <td>...</td>\n",
       "      <td>...</td>\n",
       "      <td>...</td>\n",
       "      <td>...</td>\n",
       "    </tr>\n",
       "    <tr>\n",
       "      <th>Celesteela</th>\n",
       "      <td>0.25</td>\n",
       "      <td>1.0</td>\n",
       "      <td>0.5</td>\n",
       "      <td>2.0</td>\n",
       "      <td>0.5</td>\n",
       "      <td>1.0</td>\n",
       "      <td>2.0</td>\n",
       "      <td>0.5</td>\n",
       "      <td>1.0</td>\n",
       "      <td>0.25</td>\n",
       "      <td>0.0</td>\n",
       "      <td>1.0</td>\n",
       "      <td>0.5</td>\n",
       "      <td>0.0</td>\n",
       "      <td>0.5</td>\n",
       "      <td>1.0</td>\n",
       "      <td>0.5</td>\n",
       "      <td>1.0</td>\n",
       "    </tr>\n",
       "    <tr>\n",
       "      <th>Kartana</th>\n",
       "      <td>1.00</td>\n",
       "      <td>1.0</td>\n",
       "      <td>0.5</td>\n",
       "      <td>0.5</td>\n",
       "      <td>0.5</td>\n",
       "      <td>2.0</td>\n",
       "      <td>4.0</td>\n",
       "      <td>1.0</td>\n",
       "      <td>1.0</td>\n",
       "      <td>0.25</td>\n",
       "      <td>1.0</td>\n",
       "      <td>1.0</td>\n",
       "      <td>0.5</td>\n",
       "      <td>0.0</td>\n",
       "      <td>0.5</td>\n",
       "      <td>0.5</td>\n",
       "      <td>0.5</td>\n",
       "      <td>0.5</td>\n",
       "    </tr>\n",
       "    <tr>\n",
       "      <th>Guzzlord</th>\n",
       "      <td>2.00</td>\n",
       "      <td>0.5</td>\n",
       "      <td>2.0</td>\n",
       "      <td>0.5</td>\n",
       "      <td>4.0</td>\n",
       "      <td>2.0</td>\n",
       "      <td>0.5</td>\n",
       "      <td>1.0</td>\n",
       "      <td>0.5</td>\n",
       "      <td>0.50</td>\n",
       "      <td>1.0</td>\n",
       "      <td>2.0</td>\n",
       "      <td>1.0</td>\n",
       "      <td>1.0</td>\n",
       "      <td>0.0</td>\n",
       "      <td>1.0</td>\n",
       "      <td>1.0</td>\n",
       "      <td>0.5</td>\n",
       "    </tr>\n",
       "    <tr>\n",
       "      <th>Necrozma</th>\n",
       "      <td>2.00</td>\n",
       "      <td>2.0</td>\n",
       "      <td>1.0</td>\n",
       "      <td>1.0</td>\n",
       "      <td>1.0</td>\n",
       "      <td>0.5</td>\n",
       "      <td>1.0</td>\n",
       "      <td>1.0</td>\n",
       "      <td>2.0</td>\n",
       "      <td>1.00</td>\n",
       "      <td>1.0</td>\n",
       "      <td>1.0</td>\n",
       "      <td>1.0</td>\n",
       "      <td>1.0</td>\n",
       "      <td>0.5</td>\n",
       "      <td>1.0</td>\n",
       "      <td>1.0</td>\n",
       "      <td>1.0</td>\n",
       "    </tr>\n",
       "    <tr>\n",
       "      <th>Magearna</th>\n",
       "      <td>0.25</td>\n",
       "      <td>0.5</td>\n",
       "      <td>0.0</td>\n",
       "      <td>1.0</td>\n",
       "      <td>0.5</td>\n",
       "      <td>1.0</td>\n",
       "      <td>2.0</td>\n",
       "      <td>0.5</td>\n",
       "      <td>1.0</td>\n",
       "      <td>0.50</td>\n",
       "      <td>2.0</td>\n",
       "      <td>0.5</td>\n",
       "      <td>0.5</td>\n",
       "      <td>0.0</td>\n",
       "      <td>0.5</td>\n",
       "      <td>0.5</td>\n",
       "      <td>1.0</td>\n",
       "      <td>1.0</td>\n",
       "    </tr>\n",
       "  </tbody>\n",
       "</table>\n",
       "<p>801 rows × 18 columns</p>\n",
       "</div>"
      ],
      "text/plain": [
       "            against_bug  against_dark  against_dragon  against_electric  \\\n",
       "name                                                                      \n",
       "Bulbasaur          1.00           1.0             1.0               0.5   \n",
       "Ivysaur            1.00           1.0             1.0               0.5   \n",
       "Venusaur           1.00           1.0             1.0               0.5   \n",
       "Charmander         0.50           1.0             1.0               1.0   \n",
       "Charmeleon         0.50           1.0             1.0               1.0   \n",
       "...                 ...           ...             ...               ...   \n",
       "Celesteela         0.25           1.0             0.5               2.0   \n",
       "Kartana            1.00           1.0             0.5               0.5   \n",
       "Guzzlord           2.00           0.5             2.0               0.5   \n",
       "Necrozma           2.00           2.0             1.0               1.0   \n",
       "Magearna           0.25           0.5             0.0               1.0   \n",
       "\n",
       "            against_fairy  against_fight  against_fire  against_flying  \\\n",
       "name                                                                     \n",
       "Bulbasaur             0.5            0.5           2.0             2.0   \n",
       "Ivysaur               0.5            0.5           2.0             2.0   \n",
       "Venusaur              0.5            0.5           2.0             2.0   \n",
       "Charmander            0.5            1.0           0.5             1.0   \n",
       "Charmeleon            0.5            1.0           0.5             1.0   \n",
       "...                   ...            ...           ...             ...   \n",
       "Celesteela            0.5            1.0           2.0             0.5   \n",
       "Kartana               0.5            2.0           4.0             1.0   \n",
       "Guzzlord              4.0            2.0           0.5             1.0   \n",
       "Necrozma              1.0            0.5           1.0             1.0   \n",
       "Magearna              0.5            1.0           2.0             0.5   \n",
       "\n",
       "            against_ghost  against_grass  against_ground  against_ice  \\\n",
       "name                                                                    \n",
       "Bulbasaur             1.0           0.25             1.0          2.0   \n",
       "Ivysaur               1.0           0.25             1.0          2.0   \n",
       "Venusaur              1.0           0.25             1.0          2.0   \n",
       "Charmander            1.0           0.50             2.0          0.5   \n",
       "Charmeleon            1.0           0.50             2.0          0.5   \n",
       "...                   ...            ...             ...          ...   \n",
       "Celesteela            1.0           0.25             0.0          1.0   \n",
       "Kartana               1.0           0.25             1.0          1.0   \n",
       "Guzzlord              0.5           0.50             1.0          2.0   \n",
       "Necrozma              2.0           1.00             1.0          1.0   \n",
       "Magearna              1.0           0.50             2.0          0.5   \n",
       "\n",
       "            against_normal  against_poison  against_psychic  against_rock  \\\n",
       "name                                                                        \n",
       "Bulbasaur              1.0             1.0              2.0           1.0   \n",
       "Ivysaur                1.0             1.0              2.0           1.0   \n",
       "Venusaur               1.0             1.0              2.0           1.0   \n",
       "Charmander             1.0             1.0              1.0           2.0   \n",
       "Charmeleon             1.0             1.0              1.0           2.0   \n",
       "...                    ...             ...              ...           ...   \n",
       "Celesteela             0.5             0.0              0.5           1.0   \n",
       "Kartana                0.5             0.0              0.5           0.5   \n",
       "Guzzlord               1.0             1.0              0.0           1.0   \n",
       "Necrozma               1.0             1.0              0.5           1.0   \n",
       "Magearna               0.5             0.0              0.5           0.5   \n",
       "\n",
       "            against_steel  against_water  \n",
       "name                                      \n",
       "Bulbasaur             1.0            0.5  \n",
       "Ivysaur               1.0            0.5  \n",
       "Venusaur              1.0            0.5  \n",
       "Charmander            0.5            2.0  \n",
       "Charmeleon            0.5            2.0  \n",
       "...                   ...            ...  \n",
       "Celesteela            0.5            1.0  \n",
       "Kartana               0.5            0.5  \n",
       "Guzzlord              1.0            0.5  \n",
       "Necrozma              1.0            1.0  \n",
       "Magearna              1.0            1.0  \n",
       "\n",
       "[801 rows x 18 columns]"
      ]
     },
     "execution_count": 45,
     "metadata": {},
     "output_type": "execute_result"
    }
   ],
   "source": [
    "type_adv"
   ]
  },
  {
   "cell_type": "code",
   "execution_count": 46,
   "id": "9b33308e-16f7-40e0-a12c-876071251499",
   "metadata": {},
   "outputs": [
    {
     "data": {
      "text/plain": [
       "1.00    376\n",
       "0.50    247\n",
       "2.00    128\n",
       "0.25     42\n",
       "4.00      8\n",
       "Name: against_bug, dtype: int64"
      ]
     },
     "execution_count": 46,
     "metadata": {},
     "output_type": "execute_result"
    }
   ],
   "source": [
    "df.against_bug.value_counts()"
   ]
  },
  {
   "cell_type": "markdown",
   "id": "0d719b74-d781-4a48-bd30-1617ef0bb965",
   "metadata": {},
   "source": [
    "## Which Type of Pokemon does critical damage to the most amount of pokemon?"
   ]
  },
  {
   "cell_type": "code",
   "execution_count": 60,
   "id": "7eeaf6bc-dfa0-4bcb-b4c1-adbef6e83612",
   "metadata": {},
   "outputs": [
    {
     "name": "stdout",
     "output_type": "stream",
     "text": [
      "against_bug\n",
      "128\n",
      "against_dark\n",
      "105\n",
      "against_dragon\n",
      "43\n",
      "against_electric\n",
      "181\n",
      "against_fairy\n",
      "103\n",
      "against_fight\n",
      "184\n",
      "against_fire\n",
      "187\n",
      "against_flying\n",
      "181\n",
      "against_ghost\n",
      "112\n",
      "against_grass\n",
      "135\n",
      "against_ground\n",
      "184\n",
      "against_ice\n",
      "212\n",
      "against_normal\n",
      "0\n",
      "against_poison\n",
      "102\n",
      "against_psychic\n",
      "102\n",
      "against_rock\n",
      "198\n",
      "against_steel\n",
      "100\n",
      "against_water\n",
      "129\n"
     ]
    }
   ],
   "source": [
    "for col in type_adv:\n",
    "    print(col)\n",
    "    print(df[col][df[col] == 2].count())"
   ]
  },
  {
   "cell_type": "markdown",
   "id": "e7db5cf3-4363-49fb-bbfd-51aef262381a",
   "metadata": {},
   "source": [
    "## Ice, Rock, Fire, Ground, Fighting,Electric, Flying the top 7 Types to inflict double damage:\n",
    "\n",
    "> - Ice (212)\n",
    "> - Rock (198)\n",
    "> - Fire (187)\n",
    "> - Ground (184)\n",
    "> - Fighting (184)\n",
    "> - Electric (181)\n",
    "> - Flying (181)"
   ]
  },
  {
   "cell_type": "code",
   "execution_count": 63,
   "id": "f948c40c-2f02-43a0-9b5d-f04079343839",
   "metadata": {},
   "outputs": [
    {
     "name": "stdout",
     "output_type": "stream",
     "text": [
      "against_bug\n",
      "8\n",
      "against_dark\n",
      "2\n",
      "against_dragon\n",
      "0\n",
      "against_electric\n",
      "7\n",
      "against_fairy\n",
      "9\n",
      "against_fight\n",
      "13\n",
      "against_fire\n",
      "16\n",
      "against_flying\n",
      "12\n",
      "against_ghost\n",
      "2\n",
      "against_grass\n",
      "28\n",
      "against_ground\n",
      "15\n",
      "against_ice\n",
      "22\n",
      "against_normal\n",
      "0\n",
      "against_poison\n",
      "5\n",
      "against_psychic\n",
      "2\n",
      "against_rock\n",
      "23\n",
      "against_steel\n",
      "4\n",
      "against_water\n",
      "12\n"
     ]
    }
   ],
   "source": [
    "for col in type_adv:\n",
    "    print(col)\n",
    "    print(df[col][df[col] == 4].count())"
   ]
  },
  {
   "cell_type": "markdown",
   "id": "59b310d1-145d-4552-92b1-182bc76adb86",
   "metadata": {},
   "source": [
    "## The Top 6 Types that do Quadruple Damage:\n",
    "\n",
    "> - Grass (28)\n",
    "> - Rock (23)\n",
    "> - Ice (22)\n",
    "> - Fire (16)\n",
    "> - Ground (15)\n",
    "> - Fight (13)\n"
   ]
  },
  {
   "cell_type": "code",
   "execution_count": 64,
   "id": "5dfb81ee-ed31-4267-9caa-e7d5ec95fb21",
   "metadata": {},
   "outputs": [
    {
     "name": "stdout",
     "output_type": "stream",
     "text": [
      "against_bug\n",
      "0\n",
      "against_dark\n",
      "0\n",
      "against_dragon\n",
      "47\n",
      "against_electric\n",
      "64\n",
      "against_fairy\n",
      "0\n",
      "against_fight\n",
      "41\n",
      "against_fire\n",
      "0\n",
      "against_flying\n",
      "0\n",
      "against_ghost\n",
      "109\n",
      "against_grass\n",
      "0\n",
      "against_ground\n",
      "98\n",
      "against_ice\n",
      "0\n",
      "against_normal\n",
      "41\n",
      "against_poison\n",
      "46\n",
      "against_psychic\n",
      "46\n",
      "against_rock\n",
      "0\n",
      "against_steel\n",
      "0\n",
      "against_water\n",
      "0\n"
     ]
    }
   ],
   "source": [
    "for col in type_adv:\n",
    "    print(col)\n",
    "    print(df[col][df[col] == 0].count())"
   ]
  },
  {
   "cell_type": "markdown",
   "id": "ea843f99-db90-4b5e-afaa-33e19ba1a17b",
   "metadata": {},
   "source": [
    "## Top 6 Types that do NO damage to the most amound of pokemon:\n",
    "\n",
    "> - Ghost (109)\n",
    "> - Ground (98)\n",
    "> - Electric (64)\n",
    "> - Dragon (47)\n",
    "> - Poison (46)\n",
    "> - Psychic (46)"
   ]
  },
  {
   "cell_type": "markdown",
   "id": "996c8513-173e-4385-b6ba-71fe0c4c02a5",
   "metadata": {},
   "source": [
    "## Does a Pokemon's Type have any relationship to base_total?"
   ]
  },
  {
   "cell_type": "code",
   "execution_count": 66,
   "id": "019c0f3f-a63e-41f5-8adc-f887bf9d34bd",
   "metadata": {
    "tags": []
   },
   "outputs": [
    {
     "data": {
      "text/plain": [
       "<AxesSubplot:xlabel='type1', ylabel='base_total'>"
      ]
     },
     "execution_count": 66,
     "metadata": {},
     "output_type": "execute_result"
    },
    {
     "data": {
      "image/png": "[encoded data removed]",
      "text/plain": [
       "<Figure size 1152x576 with 1 Axes>"
      ]
     },
     "metadata": {
      "needs_background": "light"
     },
     "output_type": "display_data"
    }
   ],
   "source": [
    "plt.figure(figsize=(16,8))\n",
    "sns.boxplot(data = df, x = 'type1', y = 'base_total')"
   ]
  },
  {
   "cell_type": "code",
   "execution_count": null,
   "id": "a6292957-dfb4-45d4-8816-566c3388010f",
   "metadata": {},
   "outputs": [],
   "source": []
  }
 ],
 "metadata": {
  "kernelspec": {
   "display_name": "Python 3 (ipykernel)",
   "language": "python",
   "name": "python3"
  },
  "language_info": {
   "codemirror_mode": {
    "name": "ipython",
    "version": 3
   },
   "file_extension": ".py",
   "mimetype": "text/x-python",
   "name": "python",
   "nbconvert_exporter": "python",
   "pygments_lexer": "ipython3",
   "version": "3.9.12"
  }
 },
 "nbformat": 4,
 "nbformat_minor": 5
}
