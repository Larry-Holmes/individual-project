{
 "cells": [
  {
   "cell_type": "code",
   "execution_count": 1,
   "id": "8ca966f5-60d5-438a-9384-31181755e0cc",
   "metadata": {},
   "outputs": [],
   "source": [
    "import pandas as pd\n",
    "import numpy as np\n",
    "\n",
    "import matplotlib.pyplot as plt\n",
    "import seaborn as sns\n",
    "\n",
    "import scipy.stats as stats\n",
    "from scipy.stats import pearsonr, spearmanr\n",
    "\n",
    "import prepare\n",
    "\n",
    "from sklearn.feature_selection import SelectKBest, f_regression\n",
    "from sklearn.feature_selection import RFE\n",
    "from sklearn.linear_model import LinearRegression\n",
    "\n",
    "# utilized for creating models and visualization\n",
    "from sklearn.tree import DecisionTreeClassifier, plot_tree\n",
    "from sklearn.linear_model import LogisticRegression\n",
    "from sklearn.ensemble import RandomForestClassifier\n",
    "from sklearn.neighbors import KNeighborsClassifier\n",
    "\n",
    "# utilized for metrics on my models\n",
    "from sklearn.metrics import confusion_matrix, classification_report\n",
    "\n",
    "import warnings\n",
    "warnings.filterwarnings(\"ignore\")"
   ]
  },
  {
   "cell_type": "markdown",
   "id": "230a5af6-8b40-4ab6-9bd6-30fc6e7afe59",
   "metadata": {
    "jp-MarkdownHeadingCollapsed": true,
    "tags": []
   },
   "source": [
    "# What should my target variable be?\n",
    "\n",
    "- I feel as though attrition should be my target variable because it would be important to the company to predict when and why employees are leaving their place of business.\n",
    "\n",
    "- Questions to be asked:\n",
    "\n",
    "> Does personal features such as performance rating, number of companies worked, age, marital status, etc have a large influence on attrition?\n",
    ">\n",
    "> Does company involvement such as pay, manager rotation, environment, etc have a large influence on attrition?\n",
    ">\n",
    "> Which employees with specific educational backgrounds leave and which ones stay?\n",
    ">\n",
    "> Which job roles are more prone to have high turnover? Which ones incur high tenure? \n",
    ">\n",
    "> What is the attrition rate of eople who have most of their work experience at the company?"
   ]
  },
  {
   "cell_type": "markdown",
   "id": "f371601a-36cd-4251-b8bb-ce66f7a679af",
   "metadata": {},
   "source": [
    "---------------------------------------------------------------"
   ]
  },
  {
   "cell_type": "markdown",
   "id": "21948301-4525-4433-929f-763784f1e8d5",
   "metadata": {},
   "source": [
    "# Goals and Deliverables\n",
    "\n",
    "- My goal is to create the best model for predicting the attrition rate of employees at this company.\n",
    "\n",
    "- I aim to deliver a working model along with an entire notebook outlining how I came to my conclusion and end product."
   ]
  },
  {
   "cell_type": "markdown",
   "id": "1aae7711-3d3b-4154-8eb6-91e9ef96caa2",
   "metadata": {},
   "source": [
    "------"
   ]
  },
  {
   "cell_type": "markdown",
   "id": "f281d519-b2d9-4562-a816-6d495e76422c",
   "metadata": {},
   "source": [
    "# Initial Thoughts and Hypotheses\n",
    "\n",
    "> My thought process going into this project is that the individauls who have a weaker incentive to stay monetarily are the ones who incur higher turnover."
   ]
  },
  {
   "cell_type": "markdown",
   "id": "2e1e2b18-e6ed-4a4a-b782-beca575f3737",
   "metadata": {},
   "source": [
    "------"
   ]
  },
  {
   "cell_type": "markdown",
   "id": "8f0bc5bb-fa27-4210-b301-a8d8b56322f1",
   "metadata": {},
   "source": [
    "# Acquire and Prepare"
   ]
  },
  {
   "cell_type": "code",
   "execution_count": 39,
   "id": "0458b2bc-988b-4042-a8ad-132ed8e7cd8f",
   "metadata": {},
   "outputs": [
    {
     "name": "stdout",
     "output_type": "stream",
     "text": [
      "<class 'pandas.core.frame.DataFrame'>\n",
      "RangeIndex: 1470 entries, 0 to 1469\n",
      "Data columns (total 17 columns):\n",
      " #   Column                   Non-Null Count  Dtype \n",
      "---  ------                   --------------  ----- \n",
      " 0   age                      1470 non-null   int64 \n",
      " 1   attrition                1470 non-null   int64 \n",
      " 2   department               1470 non-null   int64 \n",
      " 3   educationfield           1470 non-null   int64 \n",
      " 4   environmentsatisfaction  1470 non-null   int64 \n",
      " 5   gender                   1470 non-null   object\n",
      " 6   joblevel                 1470 non-null   int64 \n",
      " 7   maritalstatus            1470 non-null   int64 \n",
      " 8   monthlyincome            1470 non-null   int64 \n",
      " 9   numcompaniesworked       1470 non-null   int64 \n",
      " 10  percentsalaryhike        1470 non-null   int64 \n",
      " 11  performancerating        1470 non-null   int64 \n",
      " 12  stockoptionlevel         1470 non-null   int64 \n",
      " 13  totalworkingyears        1470 non-null   int64 \n",
      " 14  trainingtimeslastyear    1470 non-null   int64 \n",
      " 15  yearsatcompany           1470 non-null   int64 \n",
      " 16  yearswithcurrmanager     1470 non-null   int64 \n",
      "dtypes: int64(16), object(1)\n",
      "memory usage: 195.4+ KB\n"
     ]
    }
   ],
   "source": [
    "# pulling and cleaning dataframe\n",
    "df = prepare.pull_csv()"
   ]
  },
  {
   "cell_type": "markdown",
   "id": "afafdd80-b625-41e2-b02c-ecf43a1bb55f",
   "metadata": {},
   "source": [
    "## There were no nulls and I reduced the amount of columns down to 16 relevant features during my initial exploration"
   ]
  },
  {
   "cell_type": "code",
   "execution_count": 3,
   "id": "bc04d905-4ec1-4295-9e33-3406b00f081c",
   "metadata": {},
   "outputs": [
    {
     "data": {
      "text/plain": [
       "((882, 17), (294, 17), (294, 17))"
      ]
     },
     "execution_count": 3,
     "metadata": {},
     "output_type": "execute_result"
    }
   ],
   "source": [
    "# splitting the dataframe for exploration\n",
    "train, validate, test = prepare.my_train_test_split(df, 'attrition')\n",
    "train.shape, validate.shape, test.shape"
   ]
  },
  {
   "cell_type": "markdown",
   "id": "70ac8fac-f77c-42bb-9e9c-b5a3c4af02a2",
   "metadata": {},
   "source": [
    "------"
   ]
  },
  {
   "cell_type": "markdown",
   "id": "892611c5-345c-4902-9e3a-4462907e3701",
   "metadata": {},
   "source": [
    "# Explore"
   ]
  },
  {
   "cell_type": "code",
   "execution_count": 4,
   "id": "8a20c791-7f18-476d-ba4d-b3f46c9e2b8f",
   "metadata": {},
   "outputs": [
    {
     "data": {
      "text/plain": [
       "<AxesSubplot:>"
      ]
     },
     "execution_count": 4,
     "metadata": {},
     "output_type": "execute_result"
    },
    {
     "data": {
      "image/png": "[encoded data removed]",
      "text/plain": [
       "<Figure size 1152x576 with 2 Axes>"
      ]
     },
     "metadata": {
      "needs_background": "light"
     },
     "output_type": "display_data"
    }
   ],
   "source": [
    "# separating numerical columns from the categorical columns\n",
    "num_list, cat_list = prepare.dtypes_to_list(train)\n",
    "\n",
    "# creating a heatmap to see the correlation betweeen all of the numerical columns/features\n",
    "hr_corr = train[num_list].corr(method='spearman')\n",
    "\n",
    "plt.figure(figsize=(16,8))\n",
    "sns.heatmap(hr_corr, cmap='Blues', annot=True)"
   ]
  },
  {
   "cell_type": "markdown",
   "id": "2a02c509-8174-4adf-bca0-02bf8372ff30",
   "metadata": {},
   "source": [
    "### At first look we can see a decent correlation between total working years and age, total working years and job level, total working years and monthly income, performance rating and percent salary hike, and the highest correlation aligns with monthly income and job level."
   ]
  },
  {
   "cell_type": "markdown",
   "id": "0c4d8fe1-432c-4cf5-a99d-b39d60d300ec",
   "metadata": {},
   "source": [
    "## Let's look at the relationship between some of the features and attrition\n",
    "\n",
    "## Does the monetary features have a strong relationship with attrition?"
   ]
  },
  {
   "cell_type": "code",
   "execution_count": 5,
   "id": "2d6f0f45-3b5a-46c4-9b87-29f0758f13d6",
   "metadata": {},
   "outputs": [
    {
     "data": {
      "image/png": "[encoded data removed]",
      "text/plain": [
       "<Figure size 432x288 with 1 Axes>"
      ]
     },
     "metadata": {
      "needs_background": "light"
     },
     "output_type": "display_data"
    }
   ],
   "source": [
    "# creating a countplot for job level\n",
    "prepare.hr_vis(train, 'joblevel')"
   ]
  },
  {
   "cell_type": "code",
   "execution_count": 6,
   "id": "71fc7b7d-c244-4b66-808c-74bc7ad071bd",
   "metadata": {},
   "outputs": [
    {
     "name": "stdout",
     "output_type": "stream",
     "text": [
      "We reject the null hypothesis that joblevel and attrition rate are independent\n",
      "There is a relationship between attrition rate and joblevel\n"
     ]
    }
   ],
   "source": [
    "# creating a chi square test for job level\n",
    "prepare.hr_test(train, 'joblevel')"
   ]
  },
  {
   "cell_type": "code",
   "execution_count": 7,
   "id": "683fd089-3a17-4fdc-8b66-cb4787b40be8",
   "metadata": {},
   "outputs": [
    {
     "data": {
      "image/png": "[encoded data removed]",
      "text/plain": [
       "<Figure size 432x288 with 1 Axes>"
      ]
     },
     "metadata": {
      "needs_background": "light"
     },
     "output_type": "display_data"
    }
   ],
   "source": [
    "# visualizing the relationship between income and job level\n",
    "sns.barplot(x = train.joblevel, y=train.monthlyincome, hue= 'attrition', data = train)\n",
    "plt.title('Monthly Income Vs Job Level')\n",
    "plt.xlabel('Job Level')\n",
    "plt.ylabel('Monthly Income ($)')\n",
    "plt.show()"
   ]
  },
  {
   "cell_type": "code",
   "execution_count": 8,
   "id": "4fe77483-26df-4595-8a2e-ff4dcbf5f6a2",
   "metadata": {},
   "outputs": [
    {
     "data": {
      "image/png": "[encoded data removed]",
      "text/plain": [
       "<Figure size 432x288 with 1 Axes>"
      ]
     },
     "metadata": {
      "needs_background": "light"
     },
     "output_type": "display_data"
    }
   ],
   "source": [
    "# creating a countplot for stock option levels\n",
    "prepare.hr_vis(train, 'stockoptionlevel')"
   ]
  },
  {
   "cell_type": "code",
   "execution_count": 9,
   "id": "3cffc59c-7a43-4a5a-9539-4dbb8fe203cd",
   "metadata": {},
   "outputs": [
    {
     "name": "stdout",
     "output_type": "stream",
     "text": [
      "We reject the null hypothesis that stockoptionlevel and attrition rate are independent\n",
      "There is a relationship between attrition rate and stockoptionlevel\n"
     ]
    }
   ],
   "source": [
    "# creating a chi square test for stock option levels\n",
    "prepare.hr_test(train, 'stockoptionlevel')"
   ]
  },
  {
   "cell_type": "markdown",
   "id": "066f94d7-d0b8-486d-8a29-c98309a672af",
   "metadata": {},
   "source": [
    "## Employees making the least amount of money (junior positions) are more prone to leaving the company"
   ]
  },
  {
   "cell_type": "markdown",
   "id": "3858d561-2c11-4795-ac06-72f7e9358877",
   "metadata": {},
   "source": [
    "## Does the field of education affect attrition rate?"
   ]
  },
  {
   "cell_type": "code",
   "execution_count": 10,
   "id": "5a3954c2-c1ed-4311-9cac-219286e1b2a3",
   "metadata": {},
   "outputs": [
    {
     "data": {
      "image/png": "[encoded data removed]",
      "text/plain": [
       "<Figure size 432x288 with 1 Axes>"
      ]
     },
     "metadata": {
      "needs_background": "light"
     },
     "output_type": "display_data"
    }
   ],
   "source": [
    "# creating a countplot for education fields of study\n",
    "prepare.hr_vis(train, 'educationfield')"
   ]
  },
  {
   "cell_type": "code",
   "execution_count": 11,
   "id": "f2ae539f-79ab-47fa-a7a4-aca90b11bc5d",
   "metadata": {},
   "outputs": [
    {
     "name": "stdout",
     "output_type": "stream",
     "text": [
      "We fail to reject the null hypothesis that educationfield and attrition rate are independent\n",
      "There appears to be no relationship between attrition rate and educationfield\n"
     ]
    }
   ],
   "source": [
    "# creating a chi square test for education fields of study\n",
    "prepare.hr_test(train, 'educationfield')"
   ]
  },
  {
   "cell_type": "markdown",
   "id": "249e9e09-263f-4a0d-babf-9bdb0c77f31d",
   "metadata": {},
   "source": [
    "## At first glance it seems that one's field of education influences whether they will stay or not, but futher testing proves that education is independent of attrition."
   ]
  },
  {
   "cell_type": "markdown",
   "id": "e977dccd-2281-45df-9988-ce9e53ac470e",
   "metadata": {},
   "source": [
    "## Since junior level employees tend to be targets of attrition, then does that mean total work experience affects attrition rate?"
   ]
  },
  {
   "cell_type": "code",
   "execution_count": 12,
   "id": "e7f02ea6-8fd7-4be6-8b5d-f6992d5e7796",
   "metadata": {},
   "outputs": [
    {
     "data": {
      "image/png": "[encoded data removed]",
      "text/plain": [
       "<Figure size 432x288 with 1 Axes>"
      ]
     },
     "metadata": {
      "needs_background": "light"
     },
     "output_type": "display_data"
    }
   ],
   "source": [
    "# creating a countplot for total years of experience in the workforce\n",
    "prepare.hr_vis(train, 'totalworkingyears')"
   ]
  },
  {
   "cell_type": "code",
   "execution_count": 13,
   "id": "af50eff6-c80b-4775-8cd1-80628857f51a",
   "metadata": {},
   "outputs": [
    {
     "name": "stdout",
     "output_type": "stream",
     "text": [
      "We reject the null hypothesis that totalworkingyears and attrition rate are independent\n",
      "There is a relationship between attrition rate and totalworkingyears\n"
     ]
    }
   ],
   "source": [
    "# creating a chi square test for total years of experience in the workforce\n",
    "prepare.hr_test(train, 'totalworkingyears')"
   ]
  },
  {
   "cell_type": "code",
   "execution_count": 14,
   "id": "c83084de-4828-42c7-a9f5-5b20365909fd",
   "metadata": {},
   "outputs": [
    {
     "data": {
      "image/png": "[encoded data removed]",
      "text/plain": [
       "<Figure size 432x288 with 1 Axes>"
      ]
     },
     "metadata": {
      "needs_background": "light"
     },
     "output_type": "display_data"
    }
   ],
   "source": [
    "# creating a countplot for years worked at the company\n",
    "prepare.hr_vis(train, 'yearsatcompany')"
   ]
  },
  {
   "cell_type": "code",
   "execution_count": 15,
   "id": "492a5016-85d9-4488-8e29-a9752cd9d786",
   "metadata": {},
   "outputs": [
    {
     "name": "stdout",
     "output_type": "stream",
     "text": [
      "We reject the null hypothesis that yearsatcompany and attrition rate are independent\n",
      "There is a relationship between attrition rate and yearsatcompany\n"
     ]
    }
   ],
   "source": [
    "# creating a chi square test for years worked at the company\n",
    "prepare.hr_test(train, 'yearsatcompany')"
   ]
  },
  {
   "cell_type": "markdown",
   "id": "9722d69d-1b9e-4ac3-8443-d7836260b631",
   "metadata": {},
   "source": [
    "## Employees within their first year of joining the work force as a whole tend to leave the company more often than others thus making it also true that employees who have the least amount of tenure at mystery company will influence the attrition rate"
   ]
  },
  {
   "cell_type": "markdown",
   "id": "55639474-14ed-41b2-938a-1ff56d455208",
   "metadata": {},
   "source": [
    "## Exploration Summary\n",
    "\n",
    "> Overall within my deep dive exploration (further exploration not outlined in this final version) I discovered that many features were not as influential as others were thus not a large contributing factor for modeling.  The main target groups appear to be younger employees who have entered the workforce for the first time and the mystery company is their first company.  Those who are paid at a junior level are also a major focus for modeling."
   ]
  },
  {
   "cell_type": "markdown",
   "id": "c71f1277-0a06-4a29-8c76-d4b3848e4ccd",
   "metadata": {},
   "source": [
    "----------"
   ]
  },
  {
   "cell_type": "markdown",
   "id": "4deb579d-1b3c-4352-a4e3-fe33d79df277",
   "metadata": {},
   "source": [
    "# Modeling "
   ]
  },
  {
   "cell_type": "code",
   "execution_count": 16,
   "id": "43b523b7-27d1-42ac-a571-146743fdd373",
   "metadata": {},
   "outputs": [
    {
     "name": "stdout",
     "output_type": "stream",
     "text": [
      "The baseline accuracy for retained employees in all cases within the hr_analytics dataset is 0.84\n"
     ]
    }
   ],
   "source": [
    "# creating the baseline predictions\n",
    "X_train, X_validate, X_test, y_train, y_validate, y_test = prepare.model_prep(train, validate, test)"
   ]
  },
  {
   "cell_type": "markdown",
   "id": "38470ac8-fca4-4edb-af06-22fa0ad0b908",
   "metadata": {},
   "source": [
    "## Decision Tree Model"
   ]
  },
  {
   "cell_type": "code",
   "execution_count": 17,
   "id": "feec6856-df44-4f18-ba2d-6a856d1a8ddd",
   "metadata": {},
   "outputs": [
    {
     "name": "stdout",
     "output_type": "stream",
     "text": [
      "Tree with max depth of 5\n",
      "                    0           1  accuracy   macro avg  weighted avg\n",
      "precision    0.892593    0.777778   0.88322    0.835185      0.873977\n",
      "recall       0.978349    0.391608   0.88322    0.684979      0.883220\n",
      "f1-score     0.933505    0.520930   0.88322    0.727218      0.866614\n",
      "support    739.000000  143.000000   0.88322  882.000000    882.000000\n",
      "Tree with max depth of 10\n",
      "                    0           1  accuracy   macro avg  weighted avg\n",
      "precision    0.969777    0.991736  0.972789    0.980756      0.973337\n",
      "recall       0.998647    0.839161  0.972789    0.918904      0.972789\n",
      "f1-score     0.984000    0.909091  0.972789    0.946545      0.971855\n",
      "support    739.000000  143.000000  0.972789  882.000000    882.000000\n",
      "Tree with max depth of 15\n",
      "                    0           1  accuracy   macro avg  weighted avg\n",
      "precision    0.998647    0.993007  0.997732    0.995827      0.997732\n",
      "recall       0.998647    0.993007  0.997732    0.995827      0.997732\n",
      "f1-score     0.998647    0.993007  0.997732    0.995827      0.997732\n",
      "support    739.000000  143.000000  0.997732  882.000000    882.000000\n"
     ]
    }
   ],
   "source": [
    "# creating a for loop to generate classifcation reports for various Decision Tree Models using the train data\n",
    "for i in range (5, 16, 5):\n",
    "    clf = DecisionTreeClassifier(max_depth= i, random_state=123)\n",
    "    clf = clf.fit(X_train, y_train)\n",
    "    y_pred = clf.predict(X_train)\n",
    "    print(f'Tree with max depth of {i}')\n",
    "    print(pd.DataFrame(classification_report(y_train, y_pred, output_dict=True)))"
   ]
  },
  {
   "cell_type": "code",
   "execution_count": 18,
   "id": "45939990-a75d-4d4c-915d-2c529feaa8af",
   "metadata": {},
   "outputs": [
    {
     "name": "stdout",
     "output_type": "stream",
     "text": [
      "Tree with max depth of 5\n",
      "                    0          1  accuracy   macro avg  weighted avg\n",
      "precision    0.853047   0.400000  0.829932    0.626523      0.780621\n",
      "recall       0.963563   0.127660  0.829932    0.545611      0.829932\n",
      "f1-score     0.904943   0.193548  0.829932    0.549246      0.791217\n",
      "support    247.000000  47.000000  0.829932  294.000000    294.000000\n",
      "Tree with max depth of 10\n",
      "                    0          1  accuracy   macro avg  weighted avg\n",
      "precision    0.864000   0.295455  0.778912    0.579727      0.773110\n",
      "recall       0.874494   0.276596  0.778912    0.575545      0.778912\n",
      "f1-score     0.869215   0.285714  0.778912    0.577465      0.775935\n",
      "support    247.000000  47.000000  0.778912  294.000000    294.000000\n",
      "Tree with max depth of 15\n",
      "                    0          1  accuracy   macro avg  weighted avg\n",
      "precision    0.865306   0.285714  0.768707    0.575510      0.772650\n",
      "recall       0.858300   0.297872  0.768707    0.578086      0.768707\n",
      "f1-score     0.861789   0.291667  0.768707    0.576728      0.770647\n",
      "support    247.000000  47.000000  0.768707  294.000000    294.000000\n"
     ]
    }
   ],
   "source": [
    "# creating a for loop to generate classifcation reports for various Decision Tree Models using the validate data\n",
    "# to test for overfitting\n",
    "for i in range (5, 16, 5):\n",
    "    clf = DecisionTreeClassifier(max_depth= i, random_state=123)\n",
    "    clf = clf.fit(X_train, y_train)\n",
    "    y_pred = clf.predict(X_validate)\n",
    "    print(f'Tree with max depth of {i}')\n",
    "    print(pd.DataFrame(classification_report(y_validate, y_pred, output_dict=True)))"
   ]
  },
  {
   "cell_type": "code",
   "execution_count": 19,
   "id": "dfe2675e-baa6-434e-b208-7600932ced56",
   "metadata": {
    "tags": []
   },
   "outputs": [
    {
     "data": {
      "text/plain": [
       "0.053287981859410416"
      ]
     },
     "execution_count": 19,
     "metadata": {},
     "output_type": "execute_result"
    }
   ],
   "source": [
    "# After finding the best model using decision tree methodology I compared the train set's accuracy score with the \n",
    "# validate set's accuracy score to determine the level of consistency between trained data and untrained data.\n",
    "clf = DecisionTreeClassifier(max_depth=5, random_state=123)\n",
    "clf = clf.fit(X_train, y_train)\n",
    "clf.score(X_train, y_train) - clf.score(X_validate, y_validate)"
   ]
  },
  {
   "cell_type": "markdown",
   "id": "bce56d45-b360-4ef0-a60b-eb3a87184d0a",
   "metadata": {},
   "source": [
    "### The Decision Tree Model has an 82% Accuracy which is worst than baseline"
   ]
  },
  {
   "cell_type": "markdown",
   "id": "bdff7d29-07d8-4e18-8aed-9877f1a48cb0",
   "metadata": {},
   "source": [
    "## Logistic Regression Model Creation"
   ]
  },
  {
   "cell_type": "code",
   "execution_count": 20,
   "id": "0766c83c-97c3-4daf-91cf-71c1b75e4685",
   "metadata": {},
   "outputs": [
    {
     "name": "stdout",
     "output_type": "stream",
     "text": [
      "                    0           1  accuracy   macro avg  weighted avg\n",
      "precision    0.839408    0.500000  0.837868    0.669704      0.784379\n",
      "recall       0.997294    0.013986  0.837868    0.505640      0.837868\n",
      "f1-score     0.911565    0.027211  0.837868    0.469388      0.768183\n",
      "support    739.000000  143.000000  0.837868  882.000000    882.000000\n",
      "\n",
      "                    0     1  accuracy   macro avg  weighted avg\n",
      "precision    0.839590   0.0  0.836735    0.419795      0.705370\n",
      "recall       0.995951   0.0  0.836735    0.497976      0.836735\n",
      "f1-score     0.911111   0.0  0.836735    0.455556      0.765457\n",
      "support    247.000000  47.0  0.836735  294.000000    294.000000\n"
     ]
    }
   ],
   "source": [
    "# Created a new model with a new C value of .1\n",
    "logit = LogisticRegression(random_state=123, C=.1)\n",
    "logit = logit.fit(X_train, y_train)\n",
    "y_pred = logit.predict(X_train)\n",
    "print(pd.DataFrame(classification_report(y_train, y_pred, output_dict=True)))\n",
    "print()\n",
    "print(pd.DataFrame(classification_report(y_validate, logit.predict(X_validate), output_dict=True)))"
   ]
  },
  {
   "cell_type": "code",
   "execution_count": 21,
   "id": "d050695c-d244-48c8-b78e-7fb4742efc42",
   "metadata": {},
   "outputs": [
    {
     "name": "stdout",
     "output_type": "stream",
     "text": [
      "                    0           1  accuracy   macro avg  weighted avg\n",
      "precision    0.840961    0.500000  0.837868    0.670481      0.785681\n",
      "recall       0.994587    0.027972  0.837868    0.511280      0.837868\n",
      "f1-score     0.911345    0.052980  0.837868    0.482163      0.772177\n",
      "support    739.000000  143.000000  0.837868  882.000000    882.000000\n",
      "\n",
      "                    0     1  accuracy   macro avg  weighted avg\n",
      "precision    0.839041   0.0  0.833333    0.419521      0.704909\n",
      "recall       0.991903   0.0  0.833333    0.495951      0.833333\n",
      "f1-score     0.909091   0.0  0.833333    0.454545      0.763760\n",
      "support    247.000000  47.0  0.833333  294.000000    294.000000\n"
     ]
    }
   ],
   "source": [
    "# Utilizing my established features within the X_train variable and my target with y_train, I created a logistic\n",
    "# regression model to best predict churn rate.  \n",
    "logit = LogisticRegression(random_state=123)\n",
    "logit = logit.fit(X_train, y_train)\n",
    "y_pred = logit.predict(X_train)\n",
    "print(pd.DataFrame(classification_report(y_train, y_pred, output_dict=True)))\n",
    "print()\n",
    "print(pd.DataFrame(classification_report(y_validate, logit.predict(X_validate), output_dict=True)))"
   ]
  },
  {
   "cell_type": "code",
   "execution_count": 22,
   "id": "047e44cf-9189-4af1-952c-886138969e43",
   "metadata": {},
   "outputs": [
    {
     "data": {
      "text/plain": [
       "-0.0045351473922902175"
      ]
     },
     "execution_count": 22,
     "metadata": {},
     "output_type": "execute_result"
    }
   ],
   "source": [
    "# After finding the best model using logitstic regression methodology I compared the train set's accuracy score \n",
    "# with the validate set's accuracy score to determine the level of consistency between trained data and untrained \n",
    "# data.\n",
    "logit.score(X_validate, y_validate)-logit.score(X_train, y_train)"
   ]
  },
  {
   "cell_type": "markdown",
   "id": "d15b18c2-0e72-4244-8f92-f16d3aa7fb3c",
   "metadata": {},
   "source": [
    "### The best Logistic Regression Model performed worst than baseline just like the Decision Tree model with an 83% accuracy rating"
   ]
  },
  {
   "cell_type": "markdown",
   "id": "b428347e-3312-4283-a026-e089c77e42f8",
   "metadata": {},
   "source": [
    "## Random Forest Model Creation"
   ]
  },
  {
   "cell_type": "code",
   "execution_count": 23,
   "id": "802a911a-8ab8-4a3b-9b17-90668406bdf8",
   "metadata": {},
   "outputs": [
    {
     "name": "stdout",
     "output_type": "stream",
     "text": [
      "Tree with max depth of 5\n",
      "                    0           1  accuracy   macro avg  weighted avg\n",
      "precision    0.872038    0.921053   0.87415    0.896545      0.879985\n",
      "recall       0.995940    0.244755   0.87415    0.620348      0.874150\n",
      "f1-score     0.929880    0.386740   0.87415    0.658310      0.841820\n",
      "support    739.000000  143.000000   0.87415  882.000000    882.000000\n",
      "Tree with max depth of 6\n",
      "                    0           1  accuracy   macro avg  weighted avg\n",
      "precision    0.891173    0.963636  0.895692    0.927405      0.902922\n",
      "recall       0.997294    0.370629  0.895692    0.683962      0.895692\n",
      "f1-score     0.941252    0.535354  0.895692    0.738303      0.875443\n",
      "support    739.000000  143.000000  0.895692  882.000000    882.000000\n",
      "Tree with max depth of 7\n",
      "                    0           1  accuracy   macro avg  weighted avg\n",
      "precision    0.904412    0.984848  0.910431    0.944630      0.917453\n",
      "recall       0.998647    0.454545  0.910431    0.726596      0.910431\n",
      "f1-score     0.949196    0.622010  0.910431    0.785603      0.896149\n",
      "support    739.000000  143.000000  0.910431  882.000000    882.000000\n",
      "Tree with max depth of 8\n",
      "                    0           1  accuracy   macro avg  weighted avg\n",
      "precision    0.920200    0.987500  0.926304    0.953850      0.931111\n",
      "recall       0.998647    0.552448  0.926304    0.775547      0.926304\n",
      "f1-score     0.957820    0.708520  0.926304    0.833170      0.917400\n",
      "support    739.000000  143.000000  0.926304  882.000000    882.000000\n",
      "Tree with max depth of 9\n",
      "                    0           1  accuracy   macro avg  weighted avg\n",
      "precision    0.946223    1.000000  0.952381    0.973111      0.954942\n",
      "recall       1.000000    0.706294  0.952381    0.853147      0.952381\n",
      "f1-score     0.972368    0.827869  0.952381    0.900119      0.948940\n",
      "support    739.000000  143.000000  0.952381  882.000000    882.000000\n",
      "Tree with max depth of 10\n",
      "                    0           1  accuracy   macro avg  weighted avg\n",
      "precision    0.974934    1.000000  0.978458    0.987467      0.978998\n",
      "recall       1.000000    0.867133  0.978458    0.933566      0.978458\n",
      "f1-score     0.987308    0.928839  0.978458    0.958073      0.977828\n",
      "support    739.000000  143.000000  0.978458  882.000000    882.000000\n"
     ]
    }
   ],
   "source": [
    "# Creating multiple Random Forest models utilizing the same chosen features as previous models.  Created a for \n",
    "# loop that allows me to look at multiple max depths at once for the train dataset.\n",
    "for i in range (5, 11):\n",
    "    rf = RandomForestClassifier(max_depth= i, random_state=123)\n",
    "    rf = rf.fit(X_train, y_train)\n",
    "    y_pred = rf.predict(X_train)\n",
    "    print(f'Tree with max depth of {i}')\n",
    "    print(pd.DataFrame(classification_report(y_train, y_pred, output_dict=True)))"
   ]
  },
  {
   "cell_type": "code",
   "execution_count": 24,
   "id": "15c9e30b-db41-4712-91da-9ba73b8c64aa",
   "metadata": {},
   "outputs": [
    {
     "name": "stdout",
     "output_type": "stream",
     "text": [
      "Tree with max depth of 5\n",
      "                    0          1  accuracy   macro avg  weighted avg\n",
      "precision    0.850694   0.666667  0.846939    0.758681      0.821275\n",
      "recall       0.991903   0.085106  0.846939    0.538505      0.846939\n",
      "f1-score     0.915888   0.150943  0.846939    0.533416      0.793601\n",
      "support    247.000000  47.000000  0.846939  294.000000    294.000000\n",
      "Tree with max depth of 6\n",
      "                    0          1  accuracy   macro avg  weighted avg\n",
      "precision    0.852632   0.555556  0.843537    0.704094      0.805140\n",
      "recall       0.983806   0.106383  0.843537    0.545094      0.843537\n",
      "f1-score     0.913534   0.178571  0.843537    0.546053      0.796040\n",
      "support    247.000000  47.000000  0.843537  294.000000    294.000000\n",
      "Tree with max depth of 7\n",
      "                    0          1  accuracy   macro avg  weighted avg\n",
      "precision    0.853147   0.625000  0.846939    0.739073      0.816674\n",
      "recall       0.987854   0.106383  0.846939    0.547119      0.846939\n",
      "f1-score     0.915572   0.181818  0.846939    0.548695      0.798271\n",
      "support    247.000000  47.000000  0.846939  294.000000    294.000000\n",
      "Tree with max depth of 8\n",
      "                    0          1  accuracy   macro avg  weighted avg\n",
      "precision    0.856140   0.666667   0.85034    0.761404      0.825850\n",
      "recall       0.987854   0.127660   0.85034    0.557757      0.850340\n",
      "f1-score     0.917293   0.214286   0.85034    0.565789      0.804908\n",
      "support    247.000000  47.000000   0.85034  294.000000    294.000000\n",
      "Tree with max depth of 9\n",
      "                    0          1  accuracy   macro avg  weighted avg\n",
      "precision    0.849650   0.500000  0.840136    0.674825      0.793754\n",
      "recall       0.983806   0.085106  0.840136    0.534456      0.840136\n",
      "f1-score     0.911820   0.145455  0.840136    0.528637      0.789306\n",
      "support    247.000000  47.000000  0.840136  294.000000    294.000000\n",
      "Tree with max depth of 10\n",
      "                    0          1  accuracy   macro avg  weighted avg\n",
      "precision    0.851064   0.416667  0.833333    0.633865      0.781619\n",
      "recall       0.971660   0.106383  0.833333    0.539021      0.833333\n",
      "f1-score     0.907372   0.169492  0.833333    0.538432      0.789412\n",
      "support    247.000000  47.000000  0.833333  294.000000    294.000000\n"
     ]
    }
   ],
   "source": [
    "# Created a for loop that allows me to look at multiple max depths at once for the validate dataset.\n",
    "for i in range (5, 11):\n",
    "    rf = RandomForestClassifier(max_depth= i, random_state=123)\n",
    "    rf = rf.fit(X_train, y_train)\n",
    "    y_pred = rf.predict(X_validate)\n",
    "    print(f'Tree with max depth of {i}')\n",
    "    print(pd.DataFrame(classification_report(y_validate, y_pred, output_dict=True)))"
   ]
  },
  {
   "cell_type": "markdown",
   "id": "d9f95d75-0e78-4834-b4ba-b39c792b5ef8",
   "metadata": {},
   "source": [
    "## A max depth of 5 offered the best results in terms of accuracy and precision."
   ]
  },
  {
   "cell_type": "code",
   "execution_count": 36,
   "id": "3755e1b1-65db-4ca7-825b-88c21acb3865",
   "metadata": {},
   "outputs": [
    {
     "data": {
      "text/plain": [
       "0.027210884353741416"
      ]
     },
     "execution_count": 36,
     "metadata": {},
     "output_type": "execute_result"
    }
   ],
   "source": [
    "# After discovering that max depth of 5 was the best Random Forest model, I compared the train dataset's accuracy\n",
    "# to that of the validate dataset's accuracy\n",
    "rf = RandomForestClassifier(max_depth=5,random_state=123)\n",
    "rf = rf.fit(X_train, y_train)\n",
    "rf.score(X_train, y_train) - rf.score(X_validate, y_validate)"
   ]
  },
  {
   "cell_type": "markdown",
   "id": "bf95801b-ca08-458b-b0d4-a6b3ee7a683a",
   "metadata": {},
   "source": [
    "## KNN Model Creation"
   ]
  },
  {
   "cell_type": "code",
   "execution_count": 26,
   "id": "3542c14b-e468-4100-b47e-4ef1235ed244",
   "metadata": {},
   "outputs": [
    {
     "name": "stdout",
     "output_type": "stream",
     "text": [
      "KNeighbors with n_neighbors of 10\n",
      "                    0           1  accuracy   macro avg  weighted avg\n",
      "precision    0.850000    0.636364  0.844671    0.743182      0.815363\n",
      "recall       0.989175    0.097902  0.844671    0.543538      0.844671\n",
      "f1-score     0.914321    0.169697  0.844671    0.542009      0.793594\n",
      "support    739.000000  143.000000  0.844671  882.000000    882.000000\n",
      "KNeighbors with n_neighbors of 15\n",
      "                    0           1  accuracy   macro avg  weighted avg\n",
      "precision    0.853946    0.575758  0.843537    0.714852      0.808843\n",
      "recall       0.981055    0.132867  0.843537    0.556961      0.843537\n",
      "f1-score     0.913098    0.215909  0.843537    0.564504      0.800062\n",
      "support    739.000000  143.000000  0.843537  882.000000    882.000000\n",
      "KNeighbors with n_neighbors of 20\n",
      "                    0           1  accuracy   macro avg  weighted avg\n",
      "precision    0.848204    0.631579  0.843537    0.739891      0.813082\n",
      "recall       0.990528    0.083916  0.843537    0.537222      0.843537\n",
      "f1-score     0.913858    0.148148  0.843537    0.531003      0.789712\n",
      "support    739.000000  143.000000  0.843537  882.000000    882.000000\n",
      "KNeighbors with n_neighbors of 25\n",
      "                    0           1  accuracy   macro avg  weighted avg\n",
      "precision    0.847399    0.647059  0.843537    0.747229      0.814917\n",
      "recall       0.991881    0.076923  0.843537    0.534402      0.843537\n",
      "f1-score     0.913965    0.137500  0.843537    0.525733      0.788076\n",
      "support    739.000000  143.000000  0.843537  882.000000    882.000000\n",
      "KNeighbors with n_neighbors of 30\n",
      "                    0      1  accuracy   macro avg  weighted avg\n",
      "precision    0.837868    0.0  0.837868    0.418934      0.702024\n",
      "recall       1.000000    0.0  0.837868    0.500000      0.837868\n",
      "f1-score     0.911783    0.0  0.837868    0.455891      0.763954\n",
      "support    739.000000  143.0  0.837868  882.000000    882.000000\n"
     ]
    }
   ],
   "source": [
    "for i in range (10, 31, 5):\n",
    "    knn = KNeighborsClassifier(n_neighbors=i)\n",
    "    knn = knn.fit(X_train, y_train)\n",
    "    y_pred = knn.predict(X_train)\n",
    "    print(f'KNeighbors with n_neighbors of {i}')\n",
    "    print(pd.DataFrame(classification_report(y_train, y_pred, output_dict=True)))"
   ]
  },
  {
   "cell_type": "code",
   "execution_count": 27,
   "id": "80eaa574-073b-4821-ad95-13fe9530d026",
   "metadata": {},
   "outputs": [
    {
     "name": "stdout",
     "output_type": "stream",
     "text": [
      "KNeighbors with n_neighbors of 10\n",
      "                    0          1  accuracy   macro avg  weighted avg\n",
      "precision    0.844291   0.400000  0.836735    0.622145      0.773265\n",
      "recall       0.987854   0.042553  0.836735    0.515204      0.836735\n",
      "f1-score     0.910448   0.076923  0.836735    0.493685      0.777197\n",
      "support    247.000000  47.000000  0.836735  294.000000    294.000000\n",
      "KNeighbors with n_neighbors of 15\n",
      "                    0          1  accuracy   macro avg  weighted avg\n",
      "precision    0.844828   0.500000  0.840136    0.672414      0.789702\n",
      "recall       0.991903   0.042553  0.840136    0.517228      0.840136\n",
      "f1-score     0.912477   0.078431  0.840136    0.495454      0.779143\n",
      "support    247.000000  47.000000  0.840136  294.000000    294.000000\n",
      "KNeighbors with n_neighbors of 20\n",
      "                    0          1  accuracy   macro avg  weighted avg\n",
      "precision    0.841924   0.333333  0.836735    0.587629      0.760619\n",
      "recall       0.991903   0.021277  0.836735    0.506590      0.836735\n",
      "f1-score     0.910781   0.040000  0.836735    0.475390      0.771574\n",
      "support    247.000000  47.000000  0.836735  294.000000    294.000000\n",
      "KNeighbors with n_neighbors of 25\n",
      "                    0     1  accuracy   macro avg  weighted avg\n",
      "precision    0.839041   0.0  0.833333    0.419521      0.704909\n",
      "recall       0.991903   0.0  0.833333    0.495951      0.833333\n",
      "f1-score     0.909091   0.0  0.833333    0.454545      0.763760\n",
      "support    247.000000  47.0  0.833333  294.000000    294.000000\n",
      "KNeighbors with n_neighbors of 30\n",
      "                    0     1  accuracy   macro avg  weighted avg\n",
      "precision    0.840136   0.0  0.840136    0.420068      0.705829\n",
      "recall       1.000000   0.0  0.840136    0.500000      0.840136\n",
      "f1-score     0.913124   0.0  0.840136    0.456562      0.767148\n",
      "support    247.000000  47.0  0.840136  294.000000    294.000000\n"
     ]
    }
   ],
   "source": [
    "for i in range (10, 31, 5):\n",
    "    knn = KNeighborsClassifier(n_neighbors=i)\n",
    "    knn = knn.fit(X_train, y_train)\n",
    "    y_pred = knn.predict(X_validate)\n",
    "    print(f'KNeighbors with n_neighbors of {i}')\n",
    "    print(pd.DataFrame(classification_report(y_validate, y_pred, output_dict=True)))"
   ]
  },
  {
   "cell_type": "code",
   "execution_count": 28,
   "id": "cfbc7d75-cb55-4a4a-9629-5c81ca455f67",
   "metadata": {},
   "outputs": [
    {
     "data": {
      "text/plain": [
       "0.003401360544217691"
      ]
     },
     "execution_count": 28,
     "metadata": {},
     "output_type": "execute_result"
    }
   ],
   "source": [
    "knn = KNeighborsClassifier(n_neighbors=15)\n",
    "knn = knn.fit(X_train, y_train)\n",
    "knn.score(X_train, y_train) - knn.score(X_validate, y_validate)"
   ]
  },
  {
   "cell_type": "markdown",
   "id": "30d103c9-4ea5-4d89-89c0-133efe82572e",
   "metadata": {},
   "source": [
    "### The KNN Model was able to beat baseline but with a lower precision than the Random Forest Model"
   ]
  },
  {
   "cell_type": "markdown",
   "id": "db2880b7-6878-45d1-8e93-2f5ed34e3e15",
   "metadata": {},
   "source": [
    "## MVP Model Creation Takeaways\n",
    "- Decision Tree model max depth of 5 (.05 variation between train and val).  Did not beat baseline.\n",
    "- Logistic Regression model c value of 1 (-.004 variation). Did not beat baseline.\n",
    "- Random Forest model max depth of 5 (.03 variation). Best accuracy score and precision score.\n",
    "- K-Nearest Neighbor model n_neighbors of 15 (.003 variation). Weak precision score.  Barely beat baseline.\n",
    "\n",
    "- I discovered that the best model overall was that of the Random Forest model due to it having the best precision and even while still outperforming baseline even though it was a very low improvement from baseline.  Out of all of the models, Random Forest was able to predict attrition accurately 67% of the time."
   ]
  },
  {
   "cell_type": "code",
   "execution_count": 29,
   "id": "f6fc94c3-e803-46f4-99d7-f0e69af0c7da",
   "metadata": {},
   "outputs": [
    {
     "name": "stdout",
     "output_type": "stream",
     "text": [
      "                    0          1  accuracy   macro avg  weighted avg\n",
      "precision    0.843003   1.000000  0.843537    0.921502      0.868102\n",
      "recall       1.000000   0.021277  0.843537    0.510638      0.843537\n",
      "f1-score     0.914815   0.041667  0.843537    0.478241      0.775230\n",
      "support    247.000000  47.000000  0.843537  294.000000    294.000000\n"
     ]
    }
   ],
   "source": [
    "print(pd.DataFrame(classification_report(y_test, logit.predict(X_test), output_dict=True)))"
   ]
  },
  {
   "cell_type": "code",
   "execution_count": 30,
   "id": "9a4dc201-da6e-4a1b-8cf4-05e52a28fca9",
   "metadata": {},
   "outputs": [],
   "source": [
    "proba_test = logit.predict_proba(X_test)"
   ]
  },
  {
   "cell_type": "code",
   "execution_count": 31,
   "id": "78015cb9-cfb7-4509-8d2c-b71664154dff",
   "metadata": {},
   "outputs": [
    {
     "data": {
      "text/html": [
       "<div>\n",
       "<style scoped>\n",
       "    .dataframe tbody tr th:only-of-type {\n",
       "        vertical-align: middle;\n",
       "    }\n",
       "\n",
       "    .dataframe tbody tr th {\n",
       "        vertical-align: top;\n",
       "    }\n",
       "\n",
       "    .dataframe thead th {\n",
       "        text-align: right;\n",
       "    }\n",
       "</style>\n",
       "<table border=\"1\" class=\"dataframe\">\n",
       "  <thead>\n",
       "    <tr style=\"text-align: right;\">\n",
       "      <th></th>\n",
       "      <th>0</th>\n",
       "      <th>1</th>\n",
       "    </tr>\n",
       "  </thead>\n",
       "  <tbody>\n",
       "    <tr>\n",
       "      <th>0</th>\n",
       "      <td>0.726414</td>\n",
       "      <td>0.273586</td>\n",
       "    </tr>\n",
       "    <tr>\n",
       "      <th>1</th>\n",
       "      <td>0.765208</td>\n",
       "      <td>0.234792</td>\n",
       "    </tr>\n",
       "    <tr>\n",
       "      <th>2</th>\n",
       "      <td>0.970940</td>\n",
       "      <td>0.029060</td>\n",
       "    </tr>\n",
       "    <tr>\n",
       "      <th>3</th>\n",
       "      <td>0.868108</td>\n",
       "      <td>0.131892</td>\n",
       "    </tr>\n",
       "    <tr>\n",
       "      <th>4</th>\n",
       "      <td>0.822727</td>\n",
       "      <td>0.177273</td>\n",
       "    </tr>\n",
       "  </tbody>\n",
       "</table>\n",
       "</div>"
      ],
      "text/plain": [
       "          0         1\n",
       "0  0.726414  0.273586\n",
       "1  0.765208  0.234792\n",
       "2  0.970940  0.029060\n",
       "3  0.868108  0.131892\n",
       "4  0.822727  0.177273"
      ]
     },
     "execution_count": 31,
     "metadata": {},
     "output_type": "execute_result"
    }
   ],
   "source": [
    "proba_df = pd.DataFrame(proba_test, columns = logit.classes_.tolist())\n",
    "proba_df.head()"
   ]
  },
  {
   "cell_type": "code",
   "execution_count": 32,
   "id": "3f094e53-16da-46e9-94ef-c9bf20f95448",
   "metadata": {},
   "outputs": [
    {
     "data": {
      "text/html": [
       "<div>\n",
       "<style scoped>\n",
       "    .dataframe tbody tr th:only-of-type {\n",
       "        vertical-align: middle;\n",
       "    }\n",
       "\n",
       "    .dataframe tbody tr th {\n",
       "        vertical-align: top;\n",
       "    }\n",
       "\n",
       "    .dataframe thead th {\n",
       "        text-align: right;\n",
       "    }\n",
       "</style>\n",
       "<table border=\"1\" class=\"dataframe\">\n",
       "  <thead>\n",
       "    <tr style=\"text-align: right;\">\n",
       "      <th></th>\n",
       "      <th>index</th>\n",
       "      <th>age</th>\n",
       "      <th>department</th>\n",
       "      <th>environmentsatisfaction</th>\n",
       "      <th>joblevel</th>\n",
       "      <th>maritalstatus</th>\n",
       "      <th>monthlyincome</th>\n",
       "      <th>numcompaniesworked</th>\n",
       "      <th>percentsalaryhike</th>\n",
       "      <th>performancerating</th>\n",
       "      <th>stockoptionlevel</th>\n",
       "      <th>totalworkingyears</th>\n",
       "      <th>trainingtimeslastyear</th>\n",
       "      <th>yearsatcompany</th>\n",
       "      <th>yearswithcurrmanager</th>\n",
       "    </tr>\n",
       "  </thead>\n",
       "  <tbody>\n",
       "    <tr>\n",
       "      <th>0</th>\n",
       "      <td>1435</td>\n",
       "      <td>44</td>\n",
       "      <td>0</td>\n",
       "      <td>2</td>\n",
       "      <td>1</td>\n",
       "      <td>1</td>\n",
       "      <td>2436</td>\n",
       "      <td>6</td>\n",
       "      <td>12</td>\n",
       "      <td>3</td>\n",
       "      <td>0</td>\n",
       "      <td>6</td>\n",
       "      <td>2</td>\n",
       "      <td>4</td>\n",
       "      <td>2</td>\n",
       "    </tr>\n",
       "    <tr>\n",
       "      <th>1</th>\n",
       "      <td>680</td>\n",
       "      <td>36</td>\n",
       "      <td>0</td>\n",
       "      <td>2</td>\n",
       "      <td>1</td>\n",
       "      <td>1</td>\n",
       "      <td>4678</td>\n",
       "      <td>2</td>\n",
       "      <td>18</td>\n",
       "      <td>3</td>\n",
       "      <td>0</td>\n",
       "      <td>8</td>\n",
       "      <td>6</td>\n",
       "      <td>6</td>\n",
       "      <td>1</td>\n",
       "    </tr>\n",
       "    <tr>\n",
       "      <th>2</th>\n",
       "      <td>129</td>\n",
       "      <td>49</td>\n",
       "      <td>0</td>\n",
       "      <td>3</td>\n",
       "      <td>2</td>\n",
       "      <td>2</td>\n",
       "      <td>6567</td>\n",
       "      <td>1</td>\n",
       "      <td>14</td>\n",
       "      <td>3</td>\n",
       "      <td>0</td>\n",
       "      <td>16</td>\n",
       "      <td>2</td>\n",
       "      <td>15</td>\n",
       "      <td>11</td>\n",
       "    </tr>\n",
       "    <tr>\n",
       "      <th>3</th>\n",
       "      <td>10</td>\n",
       "      <td>35</td>\n",
       "      <td>0</td>\n",
       "      <td>1</td>\n",
       "      <td>1</td>\n",
       "      <td>2</td>\n",
       "      <td>2426</td>\n",
       "      <td>0</td>\n",
       "      <td>13</td>\n",
       "      <td>3</td>\n",
       "      <td>1</td>\n",
       "      <td>6</td>\n",
       "      <td>5</td>\n",
       "      <td>5</td>\n",
       "      <td>3</td>\n",
       "    </tr>\n",
       "    <tr>\n",
       "      <th>4</th>\n",
       "      <td>1017</td>\n",
       "      <td>27</td>\n",
       "      <td>0</td>\n",
       "      <td>2</td>\n",
       "      <td>1</td>\n",
       "      <td>2</td>\n",
       "      <td>2099</td>\n",
       "      <td>0</td>\n",
       "      <td>14</td>\n",
       "      <td>3</td>\n",
       "      <td>0</td>\n",
       "      <td>6</td>\n",
       "      <td>3</td>\n",
       "      <td>5</td>\n",
       "      <td>4</td>\n",
       "    </tr>\n",
       "  </tbody>\n",
       "</table>\n",
       "</div>"
      ],
      "text/plain": [
       "   index  age  department  environmentsatisfaction  joblevel  maritalstatus  \\\n",
       "0   1435   44           0                        2         1              1   \n",
       "1    680   36           0                        2         1              1   \n",
       "2    129   49           0                        3         2              2   \n",
       "3     10   35           0                        1         1              2   \n",
       "4   1017   27           0                        2         1              2   \n",
       "\n",
       "   monthlyincome  numcompaniesworked  percentsalaryhike  performancerating  \\\n",
       "0           2436                   6                 12                  3   \n",
       "1           4678                   2                 18                  3   \n",
       "2           6567                   1                 14                  3   \n",
       "3           2426                   0                 13                  3   \n",
       "4           2099                   0                 14                  3   \n",
       "\n",
       "   stockoptionlevel  totalworkingyears  trainingtimeslastyear  yearsatcompany  \\\n",
       "0                 0                  6                      2               4   \n",
       "1                 0                  8                      6               6   \n",
       "2                 0                 16                      2              15   \n",
       "3                 1                  6                      5               5   \n",
       "4                 0                  6                      3               5   \n",
       "\n",
       "   yearswithcurrmanager  \n",
       "0                     2  \n",
       "1                     1  \n",
       "2                    11  \n",
       "3                     3  \n",
       "4                     4  "
      ]
     },
     "execution_count": 32,
     "metadata": {},
     "output_type": "execute_result"
    }
   ],
   "source": [
    "test_df = X_test.reset_index()\n",
    "test_df.head()"
   ]
  },
  {
   "cell_type": "code",
   "execution_count": 33,
   "id": "3c40a8ba-8858-4536-a7cb-9955760e3b7b",
   "metadata": {},
   "outputs": [
    {
     "data": {
      "text/html": [
       "<div>\n",
       "<style scoped>\n",
       "    .dataframe tbody tr th:only-of-type {\n",
       "        vertical-align: middle;\n",
       "    }\n",
       "\n",
       "    .dataframe tbody tr th {\n",
       "        vertical-align: top;\n",
       "    }\n",
       "\n",
       "    .dataframe thead th {\n",
       "        text-align: right;\n",
       "    }\n",
       "</style>\n",
       "<table border=\"1\" class=\"dataframe\">\n",
       "  <thead>\n",
       "    <tr style=\"text-align: right;\">\n",
       "      <th></th>\n",
       "      <th>index</th>\n",
       "      <th>age</th>\n",
       "      <th>department</th>\n",
       "      <th>environmentsatisfaction</th>\n",
       "      <th>joblevel</th>\n",
       "      <th>maritalstatus</th>\n",
       "      <th>monthlyincome</th>\n",
       "      <th>numcompaniesworked</th>\n",
       "      <th>percentsalaryhike</th>\n",
       "      <th>performancerating</th>\n",
       "      <th>stockoptionlevel</th>\n",
       "      <th>totalworkingyears</th>\n",
       "      <th>trainingtimeslastyear</th>\n",
       "      <th>yearsatcompany</th>\n",
       "      <th>yearswithcurrmanager</th>\n",
       "      <th>0</th>\n",
       "      <th>1</th>\n",
       "    </tr>\n",
       "  </thead>\n",
       "  <tbody>\n",
       "    <tr>\n",
       "      <th>0</th>\n",
       "      <td>1435</td>\n",
       "      <td>44</td>\n",
       "      <td>0</td>\n",
       "      <td>2</td>\n",
       "      <td>1</td>\n",
       "      <td>1</td>\n",
       "      <td>2436</td>\n",
       "      <td>6</td>\n",
       "      <td>12</td>\n",
       "      <td>3</td>\n",
       "      <td>0</td>\n",
       "      <td>6</td>\n",
       "      <td>2</td>\n",
       "      <td>4</td>\n",
       "      <td>2</td>\n",
       "      <td>0.726414</td>\n",
       "      <td>0.273586</td>\n",
       "    </tr>\n",
       "    <tr>\n",
       "      <th>1</th>\n",
       "      <td>680</td>\n",
       "      <td>36</td>\n",
       "      <td>0</td>\n",
       "      <td>2</td>\n",
       "      <td>1</td>\n",
       "      <td>1</td>\n",
       "      <td>4678</td>\n",
       "      <td>2</td>\n",
       "      <td>18</td>\n",
       "      <td>3</td>\n",
       "      <td>0</td>\n",
       "      <td>8</td>\n",
       "      <td>6</td>\n",
       "      <td>6</td>\n",
       "      <td>1</td>\n",
       "      <td>0.765208</td>\n",
       "      <td>0.234792</td>\n",
       "    </tr>\n",
       "    <tr>\n",
       "      <th>2</th>\n",
       "      <td>129</td>\n",
       "      <td>49</td>\n",
       "      <td>0</td>\n",
       "      <td>3</td>\n",
       "      <td>2</td>\n",
       "      <td>2</td>\n",
       "      <td>6567</td>\n",
       "      <td>1</td>\n",
       "      <td>14</td>\n",
       "      <td>3</td>\n",
       "      <td>0</td>\n",
       "      <td>16</td>\n",
       "      <td>2</td>\n",
       "      <td>15</td>\n",
       "      <td>11</td>\n",
       "      <td>0.970940</td>\n",
       "      <td>0.029060</td>\n",
       "    </tr>\n",
       "    <tr>\n",
       "      <th>3</th>\n",
       "      <td>10</td>\n",
       "      <td>35</td>\n",
       "      <td>0</td>\n",
       "      <td>1</td>\n",
       "      <td>1</td>\n",
       "      <td>2</td>\n",
       "      <td>2426</td>\n",
       "      <td>0</td>\n",
       "      <td>13</td>\n",
       "      <td>3</td>\n",
       "      <td>1</td>\n",
       "      <td>6</td>\n",
       "      <td>5</td>\n",
       "      <td>5</td>\n",
       "      <td>3</td>\n",
       "      <td>0.868108</td>\n",
       "      <td>0.131892</td>\n",
       "    </tr>\n",
       "    <tr>\n",
       "      <th>4</th>\n",
       "      <td>1017</td>\n",
       "      <td>27</td>\n",
       "      <td>0</td>\n",
       "      <td>2</td>\n",
       "      <td>1</td>\n",
       "      <td>2</td>\n",
       "      <td>2099</td>\n",
       "      <td>0</td>\n",
       "      <td>14</td>\n",
       "      <td>3</td>\n",
       "      <td>0</td>\n",
       "      <td>6</td>\n",
       "      <td>3</td>\n",
       "      <td>5</td>\n",
       "      <td>4</td>\n",
       "      <td>0.822727</td>\n",
       "      <td>0.177273</td>\n",
       "    </tr>\n",
       "  </tbody>\n",
       "</table>\n",
       "</div>"
      ],
      "text/plain": [
       "   index  age  department  environmentsatisfaction  joblevel  maritalstatus  \\\n",
       "0   1435   44           0                        2         1              1   \n",
       "1    680   36           0                        2         1              1   \n",
       "2    129   49           0                        3         2              2   \n",
       "3     10   35           0                        1         1              2   \n",
       "4   1017   27           0                        2         1              2   \n",
       "\n",
       "   monthlyincome  numcompaniesworked  percentsalaryhike  performancerating  \\\n",
       "0           2436                   6                 12                  3   \n",
       "1           4678                   2                 18                  3   \n",
       "2           6567                   1                 14                  3   \n",
       "3           2426                   0                 13                  3   \n",
       "4           2099                   0                 14                  3   \n",
       "\n",
       "   stockoptionlevel  totalworkingyears  trainingtimeslastyear  yearsatcompany  \\\n",
       "0                 0                  6                      2               4   \n",
       "1                 0                  8                      6               6   \n",
       "2                 0                 16                      2              15   \n",
       "3                 1                  6                      5               5   \n",
       "4                 0                  6                      3               5   \n",
       "\n",
       "   yearswithcurrmanager         0         1  \n",
       "0                     2  0.726414  0.273586  \n",
       "1                     1  0.765208  0.234792  \n",
       "2                    11  0.970940  0.029060  \n",
       "3                     3  0.868108  0.131892  \n",
       "4                     4  0.822727  0.177273  "
      ]
     },
     "execution_count": 33,
     "metadata": {},
     "output_type": "execute_result"
    }
   ],
   "source": [
    "predictions = pd.concat([test_df, proba_df], axis=1)\n",
    "predictions.head()"
   ]
  },
  {
   "cell_type": "code",
   "execution_count": 34,
   "id": "00d40127-d5fe-4412-a9bf-3c7658421f8e",
   "metadata": {},
   "outputs": [],
   "source": [
    "predictions['predicted'] = logit.predict(X_test)"
   ]
  },
  {
   "cell_type": "code",
   "execution_count": 37,
   "id": "3da6ae2a-b40a-41c6-97f3-3cdc19bf4796",
   "metadata": {},
   "outputs": [
    {
     "data": {
      "text/html": [
       "<div>\n",
       "<style scoped>\n",
       "    .dataframe tbody tr th:only-of-type {\n",
       "        vertical-align: middle;\n",
       "    }\n",
       "\n",
       "    .dataframe tbody tr th {\n",
       "        vertical-align: top;\n",
       "    }\n",
       "\n",
       "    .dataframe thead th {\n",
       "        text-align: right;\n",
       "    }\n",
       "</style>\n",
       "<table border=\"1\" class=\"dataframe\">\n",
       "  <thead>\n",
       "    <tr style=\"text-align: right;\">\n",
       "      <th></th>\n",
       "      <th>index</th>\n",
       "      <th>0</th>\n",
       "      <th>1</th>\n",
       "      <th>predicted</th>\n",
       "    </tr>\n",
       "  </thead>\n",
       "  <tbody>\n",
       "    <tr>\n",
       "      <th>0</th>\n",
       "      <td>1435</td>\n",
       "      <td>0.726414</td>\n",
       "      <td>0.273586</td>\n",
       "      <td>0</td>\n",
       "    </tr>\n",
       "    <tr>\n",
       "      <th>1</th>\n",
       "      <td>680</td>\n",
       "      <td>0.765208</td>\n",
       "      <td>0.234792</td>\n",
       "      <td>0</td>\n",
       "    </tr>\n",
       "    <tr>\n",
       "      <th>2</th>\n",
       "      <td>129</td>\n",
       "      <td>0.970940</td>\n",
       "      <td>0.029060</td>\n",
       "      <td>0</td>\n",
       "    </tr>\n",
       "    <tr>\n",
       "      <th>3</th>\n",
       "      <td>10</td>\n",
       "      <td>0.868108</td>\n",
       "      <td>0.131892</td>\n",
       "      <td>0</td>\n",
       "    </tr>\n",
       "    <tr>\n",
       "      <th>4</th>\n",
       "      <td>1017</td>\n",
       "      <td>0.822727</td>\n",
       "      <td>0.177273</td>\n",
       "      <td>0</td>\n",
       "    </tr>\n",
       "  </tbody>\n",
       "</table>\n",
       "</div>"
      ],
      "text/plain": [
       "   index         0         1  predicted\n",
       "0   1435  0.726414  0.273586          0\n",
       "1    680  0.765208  0.234792          0\n",
       "2    129  0.970940  0.029060          0\n",
       "3     10  0.868108  0.131892          0\n",
       "4   1017  0.822727  0.177273          0"
      ]
     },
     "execution_count": 37,
     "metadata": {},
     "output_type": "execute_result"
    }
   ],
   "source": [
    "csv_churn = predictions[['index', 0, 1, 'predicted']]\n",
    "csv_churn.head()"
   ]
  },
  {
   "cell_type": "code",
   "execution_count": 38,
   "id": "96b417b6-74c8-430c-88be-73ca744b0985",
   "metadata": {},
   "outputs": [],
   "source": [
    "# Saved my csv file to my directory\n",
    "csv_churn.to_csv('predictions.csv')"
   ]
  },
  {
   "cell_type": "markdown",
   "id": "ff8bd82a-88b1-4b86-a1a3-a9f01154b49f",
   "metadata": {},
   "source": [
    "# Conclusions and Recommendations"
   ]
  },
  {
   "cell_type": "markdown",
   "id": "583e9e97-30b3-4d20-8443-f5cbf484660a",
   "metadata": {},
   "source": [
    "1. Utilizing the features that showed distinct influence on our target variable ('attrition') allowed for a decent mvp model with lack of detailed information and a small dataset compared to most.\n",
    "\n",
    "2. My recommendations are that the company focuses on employees that are new to the workforce and are new to the company and are between the ages 25-36.  These are the individuals who have high attrition rates for whatever reason.\n",
    "\n",
    "3. Next steps at this company are to find out why younger employees new to the workforce and/or to the company are deciding to the leave the company.  Much of the other categories that were given didn't give great insight into a distinct shift in attrition rate and even more so a lot of the categories didn't have great descriptions to start off with.  I would probably send out questionnaires or do 1v1 interviews with a sample population of the aforementioned target groups.  My model was not able to add enough value to baseline predictions thus we need to explore further into the data and attempt to find more meaningful information on why employees may quit.\n"
   ]
  },
  {
   "cell_type": "code",
   "execution_count": null,
   "id": "c93e72f6-689e-4942-841f-66fe7a9ee0b8",
   "metadata": {},
   "outputs": [],
   "source": []
  }
 ],
 "metadata": {
  "kernelspec": {
   "display_name": "Python 3 (ipykernel)",
   "language": "python",
   "name": "python3"
  },
  "language_info": {
   "codemirror_mode": {
    "name": "ipython",
    "version": 3
   },
   "file_extension": ".py",
   "mimetype": "text/x-python",
   "name": "python",
   "nbconvert_exporter": "python",
   "pygments_lexer": "ipython3",
   "version": "3.9.12"
  }
 },
 "nbformat": 4,
 "nbformat_minor": 5
}
